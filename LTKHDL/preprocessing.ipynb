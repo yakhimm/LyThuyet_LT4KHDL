{
 "cells": [
  {
   "attachments": {},
   "cell_type": "markdown",
   "metadata": {},
   "source": [
    "# **B. TIỀN XỬ LÝ & KHÁM PHÁ DỮ LIỆU**"
   ]
  },
  {
   "attachments": {},
   "cell_type": "markdown",
   "metadata": {},
   "source": [
    "### Đọc dữ liệu từ tập file"
   ]
  },
  {
   "attachments": {},
   "cell_type": "markdown",
   "metadata": {},
   "source": [
    "#### Trước tiên ta hãy khai báo các thư viện"
   ]
  },
  {
   "cell_type": "code",
   "execution_count": 1,
   "metadata": {},
   "outputs": [],
   "source": [
    "import matplotlib.pyplot as plt\n",
    "import seaborn as sns\n",
    "import pandas as pd\n",
    "import numpy as np\n",
    "import warnings\n",
    "import re \n",
    "warnings.filterwarnings('ignore')"
   ]
  },
  {
   "attachments": {},
   "cell_type": "markdown",
   "metadata": {},
   "source": [
    "#### Sau đó, ta sẽ đọc file `collect_data\\collect_data\\dataset\\info.csvinfo.csv` sau khi thu thập dữ liệu và lưu vào biến `df` là một dataframe"
   ]
  },
  {
   "cell_type": "code",
   "execution_count": 2,
   "metadata": {},
   "outputs": [
    {
     "data": {
      "text/html": [
       "<div>\n",
       "<style scoped>\n",
       "    .dataframe tbody tr th:only-of-type {\n",
       "        vertical-align: middle;\n",
       "    }\n",
       "\n",
       "    .dataframe tbody tr th {\n",
       "        vertical-align: top;\n",
       "    }\n",
       "\n",
       "    .dataframe thead th {\n",
       "        text-align: right;\n",
       "    }\n",
       "</style>\n",
       "<table border=\"1\" class=\"dataframe\">\n",
       "  <thead>\n",
       "    <tr style=\"text-align: right;\">\n",
       "      <th></th>\n",
       "      <th>Title</th>\n",
       "      <th>Company</th>\n",
       "      <th>DeadlineHoSo</th>\n",
       "      <th>Salary</th>\n",
       "      <th>Quantity</th>\n",
       "      <th>Hthuc</th>\n",
       "      <th>CapBac</th>\n",
       "      <th>GioiTinh</th>\n",
       "      <th>KinhNghiem</th>\n",
       "      <th>DiaChi</th>\n",
       "      <th>Skill</th>\n",
       "      <th>JobData</th>\n",
       "    </tr>\n",
       "  </thead>\n",
       "  <tbody>\n",
       "    <tr>\n",
       "      <th>0</th>\n",
       "      <td>Business Analyst</td>\n",
       "      <td>Asilla Việt Nam</td>\n",
       "      <td>Hạn nộp hồ sơ: 31/01/2023\\r\\n</td>\n",
       "      <td>\\r\\nTới 1,400 USD\\r\\n</td>\n",
       "      <td>5 người</td>\n",
       "      <td>Toàn thời gian</td>\n",
       "      <td>Nhân viên</td>\n",
       "      <td>Không yêu cầu</td>\n",
       "      <td>3 năm</td>\n",
       "      <td>Cầu Giấy,Hà Nội</td>\n",
       "      <td>NaN</td>\n",
       "      <td>- Collaborate with Product Manager to understa...</td>\n",
       "    </tr>\n",
       "    <tr>\n",
       "      <th>1</th>\n",
       "      <td>Android Developer</td>\n",
       "      <td>FPT Software</td>\n",
       "      <td>Hạn nộp hồ sơ: 30/04/2023\\r\\n</td>\n",
       "      <td>\\r\\nThoả thuận\\r\\n</td>\n",
       "      <td>5 người</td>\n",
       "      <td>Toàn thời gian</td>\n",
       "      <td>Nhân viên</td>\n",
       "      <td>Không yêu cầu</td>\n",
       "      <td>3 năm</td>\n",
       "      <td>Hà Nội,Cầu Giấy,Thạch Thất</td>\n",
       "      <td>NaN</td>\n",
       "      <td>• Working in Global delivery team (US, China, ...</td>\n",
       "    </tr>\n",
       "    <tr>\n",
       "      <th>2</th>\n",
       "      <td>Nhân Viên IT</td>\n",
       "      <td>Công ty CPXD&amp;PTHT Tây Hồ</td>\n",
       "      <td>Hạn nộp hồ sơ: 30/01/2023\\r\\n</td>\n",
       "      <td>\\r\\nThoả thuận\\r\\n</td>\n",
       "      <td>1 người</td>\n",
       "      <td>Toàn thời gian</td>\n",
       "      <td>Nhân viên</td>\n",
       "      <td>Nam</td>\n",
       "      <td>Không yêu cầu kinh nghiệm</td>\n",
       "      <td>Vĩnh Phúc,TP Vĩnh Yên</td>\n",
       "      <td>NaN</td>\n",
       "      <td>Chịu trách nhiệm giám sát hoạt động pho...</td>\n",
       "    </tr>\n",
       "    <tr>\n",
       "      <th>3</th>\n",
       "      <td>\\r\\nChuyên Viên Quản Trị Cơ Sở Dữ Liệu (Databa...</td>\n",
       "      <td>Ngân Hàng Thương Mại Cổ Phần Kiên Long</td>\n",
       "      <td>Hạn nộp hồ sơ: 31/01/2023\\r\\n</td>\n",
       "      <td>\\r\\n15-30 triệu\\r\\n</td>\n",
       "      <td>1 người</td>\n",
       "      <td>Toàn thời gian</td>\n",
       "      <td>Nhân viên</td>\n",
       "      <td>Nam</td>\n",
       "      <td>3 năm</td>\n",
       "      <td>Hà Nội,Nam Từ Liêm</td>\n",
       "      <td>Linux,Oracle,SQL,Unix</td>\n",
       "      <td>Hệ thống cơ sở dữ liệu Oracle,Hệ thống Oracle ...</td>\n",
       "    </tr>\n",
       "    <tr>\n",
       "      <th>4</th>\n",
       "      <td>Java Developer</td>\n",
       "      <td>CÔNG TY TNHH YOUMED VIỆT NAM</td>\n",
       "      <td>Hạn nộp hồ sơ: 31/01/2023\\r\\n</td>\n",
       "      <td>\\r\\nThoả thuận\\r\\n</td>\n",
       "      <td>3 người</td>\n",
       "      <td>Toàn thời gian</td>\n",
       "      <td>Nhân viên</td>\n",
       "      <td>Không yêu cầu</td>\n",
       "      <td>1 năm</td>\n",
       "      <td>Hồ Chí Minh,Quận 10</td>\n",
       "      <td>Java,Message Queue,Back-End Web Development</td>\n",
       "      <td>Phát triển tính năng đặt khám, telemedicine, s...</td>\n",
       "    </tr>\n",
       "  </tbody>\n",
       "</table>\n",
       "</div>"
      ],
      "text/plain": [
       "                                               Title  \\\n",
       "0                                   Business Analyst   \n",
       "1                                  Android Developer   \n",
       "2                                       Nhân Viên IT   \n",
       "3  \\r\\nChuyên Viên Quản Trị Cơ Sở Dữ Liệu (Databa...   \n",
       "4                                     Java Developer   \n",
       "\n",
       "                                  Company                    DeadlineHoSo  \\\n",
       "0                         Asilla Việt Nam   Hạn nộp hồ sơ: 31/01/2023\\r\\n   \n",
       "1                            FPT Software   Hạn nộp hồ sơ: 30/04/2023\\r\\n   \n",
       "2                Công ty CPXD&PTHT Tây Hồ   Hạn nộp hồ sơ: 30/01/2023\\r\\n   \n",
       "3  Ngân Hàng Thương Mại Cổ Phần Kiên Long   Hạn nộp hồ sơ: 31/01/2023\\r\\n   \n",
       "4            CÔNG TY TNHH YOUMED VIỆT NAM   Hạn nộp hồ sơ: 31/01/2023\\r\\n   \n",
       "\n",
       "                  Salary Quantity           Hthuc     CapBac       GioiTinh  \\\n",
       "0  \\r\\nTới 1,400 USD\\r\\n  5 người  Toàn thời gian  Nhân viên  Không yêu cầu   \n",
       "1     \\r\\nThoả thuận\\r\\n  5 người  Toàn thời gian  Nhân viên  Không yêu cầu   \n",
       "2     \\r\\nThoả thuận\\r\\n  1 người  Toàn thời gian  Nhân viên            Nam   \n",
       "3    \\r\\n15-30 triệu\\r\\n  1 người  Toàn thời gian  Nhân viên            Nam   \n",
       "4     \\r\\nThoả thuận\\r\\n  3 người  Toàn thời gian  Nhân viên  Không yêu cầu   \n",
       "\n",
       "                  KinhNghiem                      DiaChi  \\\n",
       "0                      3 năm             Cầu Giấy,Hà Nội   \n",
       "1                      3 năm  Hà Nội,Cầu Giấy,Thạch Thất   \n",
       "2  Không yêu cầu kinh nghiệm       Vĩnh Phúc,TP Vĩnh Yên   \n",
       "3                      3 năm          Hà Nội,Nam Từ Liêm   \n",
       "4                      1 năm         Hồ Chí Minh,Quận 10   \n",
       "\n",
       "                                         Skill  \\\n",
       "0                                          NaN   \n",
       "1                                          NaN   \n",
       "2                                          NaN   \n",
       "3                        Linux,Oracle,SQL,Unix   \n",
       "4  Java,Message Queue,Back-End Web Development   \n",
       "\n",
       "                                             JobData  \n",
       "0  - Collaborate with Product Manager to understa...  \n",
       "1  • Working in Global delivery team (US, China, ...  \n",
       "2  Chịu trách nhiệm giám sát hoạt động pho...  \n",
       "3  Hệ thống cơ sở dữ liệu Oracle,Hệ thống Oracle ...  \n",
       "4  Phát triển tính năng đặt khám, telemedicine, s...  "
      ]
     },
     "execution_count": 2,
     "metadata": {},
     "output_type": "execute_result"
    }
   ],
   "source": [
    "df = pd.read_csv('collect_data\\collect_data\\dataset\\info.csv')\n",
    "df.head()"
   ]
  },
  {
   "attachments": {},
   "cell_type": "markdown",
   "metadata": {},
   "source": [
    "### Mỗi dòng có ý nghĩa gì? Có vấn đề các dòng có ý nghĩa khác nhau không?"
   ]
  },
  {
   "attachments": {},
   "cell_type": "markdown",
   "metadata": {},
   "source": [
    "Mỗi dòng sẽ là thông tin của một bài đăng tuyển dụng công việc IT. Mỗi dòng đều mang một ý nghĩa giống nhau nên không có vấn đề các dòng có ý nghĩa khác nhau không"
   ]
  },
  {
   "attachments": {},
   "cell_type": "markdown",
   "metadata": {},
   "source": [
    "### Tập dữ liệu có bao nhiêu dòng và cột?"
   ]
  },
  {
   "cell_type": "code",
   "execution_count": 3,
   "metadata": {},
   "outputs": [
    {
     "data": {
      "text/plain": [
       "(2336, 12)"
      ]
     },
     "execution_count": 3,
     "metadata": {},
     "output_type": "execute_result"
    }
   ],
   "source": [
    "df.shape"
   ]
  },
  {
   "attachments": {},
   "cell_type": "markdown",
   "metadata": {},
   "source": [
    "### Dữ liệu có các dòng bị lặp không?"
   ]
  },
  {
   "attachments": {},
   "cell_type": "markdown",
   "metadata": {},
   "source": [
    "#### Ta kiểm tra xem dữ liệu có bị trùng hay không bằng cách dùng hàm `duplicated` "
   ]
  },
  {
   "cell_type": "code",
   "execution_count": 4,
   "metadata": {},
   "outputs": [
    {
     "name": "stdout",
     "output_type": "stream",
     "text": [
      "Dữ liệu không bị trùng\n"
     ]
    }
   ],
   "source": [
    "isdup = df.duplicated().sum()\n",
    "if isdup != 0:\n",
    "    print('Dữ liệu bị trùng')\n",
    "    # Nếu trùng ta sẽ bỏ các dòng trùng đi\n",
    "    df = df.drop_duplicates()\n",
    "else:\n",
    "    print('Dữ liệu không bị trùng')"
   ]
  },
  {
   "attachments": {},
   "cell_type": "markdown",
   "metadata": {},
   "source": [
    "### Mỗi cột có ý nghĩa gì?\n",
    "\n",
    "Ý nghĩa của mỗi cột là:\n",
    "\n",
    "- **Title** là tiêu đề của mỗi bài đăng tuyển dụng\n",
    "\n",
    "- **Company** là công ty đăng tin tuyển dụng\n",
    "\n",
    "- **DeadlineHoSo** là thời hạn nộp hồ sơ ứng tuyển\n",
    "\n",
    "- **Salary** là lương của công việc\n",
    "\n",
    "- **Quantity** là số lượng tuyển\n",
    "\n",
    "- **Hthuc** là hình thức làm việc (full-time hay part-time)\n",
    "\n",
    "- **CapBac** là cấp bậc của công việc\n",
    "\n",
    "- **GioiTinh** là giới tính tuyển dụng\n",
    "\n",
    "- **KinhNghiem** là số năm kinh nghiệm yêu cầu\n",
    "\n",
    "- **DiaChi** là địa chỉ của nơi làm việc \n",
    "\n",
    "- **Skill** là kĩ năng yêu cầu của công việc\n",
    "\n",
    "- **JobData** là mô tả cụ thể công việc"
   ]
  },
  {
   "attachments": {},
   "cell_type": "markdown",
   "metadata": {},
   "source": [
    "### Loại bỏ kí tự thừa"
   ]
  },
  {
   "attachments": {},
   "cell_type": "markdown",
   "metadata": {},
   "source": [
    "#### Sau khi đọc dữ liệu vào `df`, ta có thể thấy các cột có khá nhiều nội dung cần được format lại."
   ]
  },
  {
   "cell_type": "code",
   "execution_count": 5,
   "metadata": {},
   "outputs": [],
   "source": [
    "def replace_str(s, str, to_str = ''):\n",
    "    return s.replace(str, to_str)\n",
    "\n",
    "df['Title'] = df['Title'].apply(replace_str, str = '\\r\\n')\n",
    "df['Salary'] = df['Salary'].apply(replace_str, str = '\\r\\n')\n",
    "df['DeadlineHoSo'] = df['DeadlineHoSo'].apply(replace_str, str = '\\r\\n')\n",
    "df['DeadlineHoSo'] = df['DeadlineHoSo'].apply(replace_str, str = 'Hạn nộp hồ sơ:')"
   ]
  },
  {
   "attachments": {},
   "cell_type": "markdown",
   "metadata": {},
   "source": [
    "### Mỗi cột hiện đang có kiểu dữ liệu gì? Có cột nào có kiểu dữ liệu chưa phù hợp để có thể xử lý tiếp không?"
   ]
  },
  {
   "cell_type": "code",
   "execution_count": 6,
   "metadata": {},
   "outputs": [
    {
     "data": {
      "text/plain": [
       "Title           object\n",
       "Company         object\n",
       "DeadlineHoSo    object\n",
       "Salary          object\n",
       "Quantity        object\n",
       "Hthuc           object\n",
       "CapBac          object\n",
       "GioiTinh        object\n",
       "KinhNghiem      object\n",
       "DiaChi          object\n",
       "Skill           object\n",
       "JobData         object\n",
       "dtype: object"
      ]
     },
     "execution_count": 6,
     "metadata": {},
     "output_type": "execute_result"
    }
   ],
   "source": [
    "df.dtypes"
   ]
  },
  {
   "attachments": {},
   "cell_type": "markdown",
   "metadata": {},
   "source": [
    "#### **XỬ LÝ CÁC CỘT NUMERIC** \n",
    "Tiếp theo, ta thấy cột `Salary`, cột `KinhNghiem` và cột `Quantity` là 3 cột có thể đưa về `numeric` hoặc `tuple`.\n",
    "\n",
    "Do đó, ta sẽ xử lý từng cột để các cột trở về đúng định dạng của nó."
   ]
  },
  {
   "attachments": {},
   "cell_type": "markdown",
   "metadata": {},
   "source": [
    "### **1. Cột `Salary`**\n",
    "Kiểm tra xe cột `Salary` có các thành phần nào, có gì giống và khác nhau giữa các thành phần."
   ]
  },
  {
   "cell_type": "code",
   "execution_count": 7,
   "metadata": {},
   "outputs": [
    {
     "data": {
      "text/plain": [
       "array(['Tới 1,400 USD', 'Thoả thuận', '15-30 triệu', 'Trên 15 triệu',\n",
       "       'Tới 20 triệu', 'Tới 1,800 USD ', 'Trên 10 triệu', '14-20 triệu',\n",
       "       'Tới 2,100 USD', '10-20 triệu', 'Tới 8 triệu', '8-30 triệu',\n",
       "       'Tới 50 triệu', 'Tới 40 triệu', '700-2,000 USD', 'Tới 22 triệu',\n",
       "       'Tới 4,000 USD', 'Tới 30 triệu', 'Tới 1,500 USD', '18-50 triệu',\n",
       "       '500-1,000 USD', ' Tới 40 triệu', '25-30 triệu', ' Thoả thuận',\n",
       "       '10-15 triệu', 'Trên 8 triệu', 'Tới 17 triệu', '20-40 triệu',\n",
       "       '2-4 triệu', 'Tới 35 triệu', '12-30 triệu', 'Tới 1,200 USD',\n",
       "       '10-25 triệu', '20-30 triệu', '18-25 triệu', 'Tới 2,000 USD',\n",
       "       '15-18 triệu', '18-30 triệu', 'Tới 25 triệu', '8-12 triệu',\n",
       "       '8-15 triệu', '8-14 triệu', '7-8 triệu', '9-15 triệu',\n",
       "       '13-20 triệu', '18-35 triệu', 'Tới 3 triệu', '23-40 triệu',\n",
       "       '2,000-4,000 USD', 'Tới 15 triệu', '15-35 triệu', '7-15 triệu',\n",
       "       ' Tới 1,500 USD', '2-10 triệu', 'Trên 20 triệu', '11-46 triệu',\n",
       "       '10-30 triệu', '11-49 triệu', '500-2,000 USD', 'Trên 60 triệu',\n",
       "       '10-40 triệu', '3-6 triệu', '13-25 triệu', 'Trên 11 triệu',\n",
       "       'Trên 24 triệu', '10-23 triệu', 'Trên 18 triệu', '7-10 triệu',\n",
       "       '3.5-4 triệu', '6-8 triệu', 'Trên 3 triệu', '8-20 triệu',\n",
       "       'Tới 2,400 USD', '750-2,200 USD', '9-20 triệu', '7-12 triệu',\n",
       "       '3-8 triệu', '5-6 triệu ', '20-45 triệu', '25-50 triệu',\n",
       "       '1,500-2,500 USD', 'Trên 7 triệu', 'Tới 18 triệu', '23-45 triệu',\n",
       "       '30-35 triệu', 'Tới 10 triệu', 'Trên 9 triệu', 'Trên 700 USD',\n",
       "       '6-15 triệu', 'Tới 13.5 triệu', 'Tới 2,200 USD', 'Trên 9.8 triệu',\n",
       "       '10-12 triệu', 'Trên 14 triệu', '15-25 triệu', '5-12 triệu',\n",
       "       'Trên 5 triệu', 'Tới 55 triệu', 'Tới 8.5 triệu', '7-12 triệu ',\n",
       "       'Trên 4 triệu', '14-25 triệu', 'Tới 1,000 USD', 'Tới 2,500 USD',\n",
       "       'Trên 1,000 USD', '1,000-2,000 USD', '15-22 triệu', 'Tới 45 triệu',\n",
       "       'Tới 4 triệu', '9-12 triệu', '4-7 triệu', 'Trên 12 triệu',\n",
       "       'Tới 25 triệu ', '550-2,000 USD', '10-16 triệu', 'Tới 5 triệu',\n",
       "       '12-20 triệu', '25-60 triệu', '300-2,000 USD', '30-45 triệu',\n",
       "       '35-40 triệu', '12-15 triệu', '12-25 triệu', '750-1,500 USD',\n",
       "       '20-35 triệu', '13-18 triệu', ' 7-12 triệu', 'Trên 40 triệu',\n",
       "       '6-10 triệu', '8-25 triệu', '20-42 triệu', ' 8-30 triệu',\n",
       "       '8-35 triệu', '15-20 triệu', '10-22 triệu', '13-40 triệu',\n",
       "       '8.5-12 triệu', '12-16 triệu', '1,200-2,800 USD',\n",
       "       '1,500-2,000 USD', 'Tới 16 triệu', '2-3 triệu', '1,600-2,000 USD',\n",
       "       'Trên 1,500 USD', 'Tới 12 triệu', '10-35 triệu', 'Tới 3,000 USD',\n",
       "       '1,500-3,000 USD', 'Tới 800 USD', '3-5 triệu', 'Tới 2 triệu',\n",
       "       '20-25 triệu', '750-1,000 USD', '1,000-2,500 USD', 'Tới 6 triệu',\n",
       "       '700-1,300 USD', 'Trên 16 triệu', '13-50 triệu', '35-50 triệu',\n",
       "       '5-15 triệu', '10-11 triệu', '18-26 triệu', '12-18 triệu',\n",
       "       '16-20 triệu', '6-25 triệu', '10-50 triệu', 'Trên 25 triệu',\n",
       "       'Tới 42 triệu', '8-18 triệu', '4-5 triệu', ' 700-2,000 USD',\n",
       "       '800-1,500 USD', '1,000-1,500 USD', '10-45 triệu', ' 8-10 triệu',\n",
       "       '700-1,200 USD', '2-8 triệu', '22-24 triệu', '20-50 triệu',\n",
       "       ' Trên 12 triệu', '800-2,000 USD', '10-14 triệu', '7-20 triệu',\n",
       "       '450-2,500 USD', 'Tới 400 USD', '12-35 triệu', '2,500-4,000 USD',\n",
       "       'Tới 1,700 USD', '350-2,000 USD', 'Tới 1,800 USD', '11-30 triệu',\n",
       "       '8-50 triệu', '600-2,000 USD', '13-24 triệu', 'Tới 70 triệu',\n",
       "       '8-11 triệu', '1,200-2,000 USD', 'Trên 1,200 USD', 'Trên 6 triệu',\n",
       "       '25-40 triệu', '8-10 triệu', '12-50 triệu', '12-14 triệu',\n",
       "       '6-9 triệu', 'Thoả thuận ', 'Tới 9 triệu', 'Tới 28 triệu',\n",
       "       '10-18 triệu', ' 3-5 triệu', '12-27 triệu', '6-30 triệu',\n",
       "       'Trên 10.8 triệu', '700-1,500 USD', '7-9 triệu', '25-35 triệu',\n",
       "       'Tới 1,300 USD', 'Tới 60 triệu', '15-23 triệu', ' 1,000-1,500 USD',\n",
       "       '3-4 triệu', '11-27 triệu', '4-6 triệu', 'Tới 39 triệu',\n",
       "       '11-40 triệu', '950-1,500 USD', '500-1,200 USD', '22-45 triệu',\n",
       "       '13-16 triệu', '18-40 triệu', '18-45 triệu', '9-11 triệu',\n",
       "       '25-45 triệu', '9-25 triệu', ' Tới 22 triệu', '17-25 triệu',\n",
       "       '11-25 triệu', '10-24 triệu', 'Tới 750 USD', '10-17 triệu',\n",
       "       ' 12-15 triệu', 'Trên 5.5 triệu', '1.2-2 triệu', '8-45 triệu',\n",
       "       '22-28 triệu', '15-40 triệu', 'Trên 450 USD', '1,800-2,500 USD',\n",
       "       'Tới 4.8 triệu', '8-13 triệu', '0.6-4.8 triệu', '2-7 triệu',\n",
       "       '13-30 triệu', '600-1,500 USD', '800-2,500 USD', 'Tới 2,000 USD ',\n",
       "       '18-27 triệu', 'Trên 2,000 USD', '600-1,000 USD', '17-30 triệu',\n",
       "       'Trên 13 triệu', '20-26 triệu', '1.5-2 triệu', 'Trên 10 triệu ',\n",
       "       '8.5-20 triệu', '2-5 triệu', '30-36 triệu', '18-28 triệu',\n",
       "       'Trên 800 USD', ' 800-2,000 USD', '16-25 triệu', '3-4.5 triệu',\n",
       "       '23-35 triệu', '25-35 triệu ', '18-23 triệu', '40-45 triệu',\n",
       "       'Tới 13 triệu', 'Tới 48 triệu', '17-28 triệu', 'Tới 30 triệu ',\n",
       "       '400-1,300 USD', 'Trên 2 triệu', 'Tới 1,600 USD', '20-22 triệu',\n",
       "       '22-40 triệu', '7-30 triệu', '4,000-8,000 USD', '5,000-11,000 USD',\n",
       "       '18-22 triệu', '1,000-1,300 USD', ' Trên 20 triệu', '30-50 triệu',\n",
       "       '11-23 triệu', '400-1,500 USD', '1.5-4 triệu', 'Trên 9.6 triệu',\n",
       "       '9-18 triệu', '700-1,600 USD', '900-1,400 USD', '800-1,000 USD',\n",
       "       'Tới 14 triệu', '15-45 triệu', 'Trên 1 triệu', '12-45 triệu',\n",
       "       'Tới 7 triệu', '18-23.5 triệu', '5-10 triệu', '15-27 triệu',\n",
       "       'Tới 11 triệu', '18-35 triệu ', '9-17 triệu', 'Trên 2.5 triệu',\n",
       "       'Trên 2.3 triệu', '5-8 triệu', 'Tới 28 triệu ', '20-60 triệu',\n",
       "       '16-40 triệu', '17-35 triệu', ' Trên 5 triệu', '55-65 triệu',\n",
       "       '11-35 triệu', '500-1,500 USD', '6-12 triệu', '11-13 triệu',\n",
       "       '1,200-1,800 USD', '5-25 triệu', '11-16 triệu', '12-17 triệu',\n",
       "       '9-30 triệu', '20-32 triệu', '45-65 triệu', '17-27 triệu',\n",
       "       '11-18 triệu', 'Trên 30 triệu', '700-2,200 USD', 'Tới 47 triệu',\n",
       "       'Tới 65 triệu', '400-1,200 USD', 'Trên 500 USD', 'Tới 120 triệu',\n",
       "       '5-7 triệu', 'Tới 3,500,000 USD', '300-1,800 USD', '3-12 triệu',\n",
       "       '16-42 triệu', '10-20 triệu '], dtype=object)"
      ]
     },
     "execution_count": 7,
     "metadata": {},
     "output_type": "execute_result"
    }
   ],
   "source": [
    "df['Salary'].unique()"
   ]
  },
  {
   "attachments": {},
   "cell_type": "markdown",
   "metadata": {},
   "source": [
    "Sau đó ta sẽ thống nhất các yếu tố sau:\n",
    "- Quy về giá trị là USD (1 USD ~ 25,000 VNĐ (Tính theo số liệu 22.11.2022))\n",
    "- Hạn mức chênh lệch: 200 USD. Ví dụ: Tới 1400 USD ~ (1200, 1400)"
   ]
  },
  {
   "attachments": {},
   "cell_type": "markdown",
   "metadata": {},
   "source": [
    "Bỏ dấu phẩy trong lương để dễ tính toán"
   ]
  },
  {
   "cell_type": "code",
   "execution_count": 8,
   "metadata": {},
   "outputs": [],
   "source": [
    "df['Salary'] = df['Salary'].apply(replace_str, str = ',')"
   ]
  },
  {
   "attachments": {},
   "cell_type": "markdown",
   "metadata": {},
   "source": [
    "Ta thấy cột `Salary` có các từ *Trên*, *Tới* và các mệnh giá tiền là *USD* và *triệu*. Thì ta có thể quy về là dạng **`tuple`** với mệnh giá chung là **USD**"
   ]
  },
  {
   "cell_type": "code",
   "execution_count": 9,
   "metadata": {},
   "outputs": [],
   "source": [
    "def re_digit(s):\n",
    "    salary_space = np.array(list(map(int, re.findall('\\d+', s))))\n",
    "    convert_value = 1000000/25000\n",
    "    vnd = 'triệu'\n",
    "    if len(salary_space) == 1:\n",
    "        if vnd in s or vnd.title() in s:\n",
    "            salary_space[0] = int(salary_space[0]) * convert_value\n",
    "        if 'Trên' in s:\n",
    "            result = (salary_space[0], salary_space[0] + 100)\n",
    "        else:\n",
    "            if int(salary_space[0]) > 250:\n",
    "                result = (salary_space[0] - 200, salary_space[0])\n",
    "            else:\n",
    "                result = (salary_space[0],salary_space[0])\n",
    "    elif len(salary_space) == 2:\n",
    "        if vnd in s or vnd.title() in s:\n",
    "            salary_space = salary_space * convert_value\n",
    "        result = (salary_space[0], salary_space[1])\n",
    "    else:\n",
    "        result = np.nan\n",
    "    return result    \n",
    "\n",
    "df[\"Salary\"] = df[\"Salary\"].apply(re_digit)"
   ]
  },
  {
   "cell_type": "code",
   "execution_count": 10,
   "metadata": {},
   "outputs": [
    {
     "data": {
      "text/plain": [
       "0          (1200, 1400)\n",
       "1                   NaN\n",
       "2                   NaN\n",
       "3       (600.0, 1200.0)\n",
       "4                   NaN\n",
       "             ...       \n",
       "2331       (1300, 1500)\n",
       "2332         (600, 700)\n",
       "2333     (400.0, 800.0)\n",
       "2334       (1800, 2000)\n",
       "2335                NaN\n",
       "Name: Salary, Length: 2336, dtype: object"
      ]
     },
     "execution_count": 10,
     "metadata": {},
     "output_type": "execute_result"
    }
   ],
   "source": [
    "df[\"Salary\"]"
   ]
  },
  {
   "attachments": {},
   "cell_type": "markdown",
   "metadata": {},
   "source": [
    "### **2. Cột `KinhNghiem`**\n",
    "Kiểm tra xe cột `KinhNghiem` có các thành phần nào, có gì giống và khác nhau giữa các thành phần."
   ]
  },
  {
   "cell_type": "code",
   "execution_count": 11,
   "metadata": {},
   "outputs": [
    {
     "data": {
      "text/plain": [
       "array(['3 năm', 'Không yêu cầu kinh nghiệm', '1 năm', 'Dưới 1 năm',\n",
       "       '2 năm', 'Trên 5 năm', '4 năm', '5 năm'], dtype=object)"
      ]
     },
     "execution_count": 11,
     "metadata": {},
     "output_type": "execute_result"
    }
   ],
   "source": [
    "df['KinhNghiem'].unique()"
   ]
  },
  {
   "attachments": {},
   "cell_type": "markdown",
   "metadata": {},
   "source": [
    "Ta thấy, cột kinh nghiệm có sự khác nhau giữ các phần tử, tuy nhiên, nhìn chung, ta có thể thấy các yêu cầu kinh nghiệm sẽ quy được về `năm`. Do đó, ta có các cách làm sau:\n",
    "\n",
    "- Với các phần tử là `Không yêu cầu kinh nghiệm`, ta sẽ gán giá trị là 0\n",
    "- Với các phần tử là `Dưới 1 năm`, ta sẽ gán giá trị là 0.5\n",
    "- Với các phần tử là `Trên 5 năm`, ta sẽ gán giá trị là 5.5\n",
    "- Còn lại, ta sẽ bỏ từ `năm` đi"
   ]
  },
  {
   "cell_type": "code",
   "execution_count": 12,
   "metadata": {},
   "outputs": [],
   "source": [
    "df['KinhNghiem'] = df['KinhNghiem'].apply(replace_str, str = 'Trên 5 năm', to_str = '5.5')\n",
    "df['KinhNghiem'] = df['KinhNghiem'].apply(replace_str, str = 'Dưới 1 năm', to_str = '0.5')\n",
    "df['KinhNghiem'] = df['KinhNghiem'].apply(replace_str, str = 'Không yêu cầu kinh nghiệm', to_str = '0')\n",
    "df['KinhNghiem'] = df['KinhNghiem'].apply(replace_str, str = ' năm')"
   ]
  },
  {
   "attachments": {},
   "cell_type": "markdown",
   "metadata": {},
   "source": [
    "Ta chuyển cột này sang dạng số"
   ]
  },
  {
   "cell_type": "code",
   "execution_count": 13,
   "metadata": {},
   "outputs": [
    {
     "data": {
      "text/plain": [
       "0       3.0\n",
       "1       3.0\n",
       "2       0.0\n",
       "3       3.0\n",
       "4       1.0\n",
       "       ... \n",
       "2331    2.0\n",
       "2332    1.0\n",
       "2333    0.5\n",
       "2334    5.0\n",
       "2335    3.0\n",
       "Name: KinhNghiem, Length: 2336, dtype: float64"
      ]
     },
     "execution_count": 13,
     "metadata": {},
     "output_type": "execute_result"
    }
   ],
   "source": [
    "df['KinhNghiem'] = pd.to_numeric(df['KinhNghiem'])\n",
    "df['KinhNghiem']"
   ]
  },
  {
   "attachments": {},
   "cell_type": "markdown",
   "metadata": {},
   "source": [
    "### **3. Cột `Quantity`**\n",
    "Kiểm tra xe cột `Quantity` có các thành phần nào, có gì giống và khác nhau giữa các thành phần."
   ]
  },
  {
   "cell_type": "code",
   "execution_count": 14,
   "metadata": {},
   "outputs": [
    {
     "data": {
      "text/plain": [
       "array(['5 người', '1 người', '3 người', '2 người', '20 người', '78 người',\n",
       "       '4 người', '30 người', '10 người', '14 người', '6 người',\n",
       "       '7 người', '8 người', '15 người', '13 người', '37 người',\n",
       "       '50 người', '200 người', '40 người', '12 người', '9 người',\n",
       "       '150 người', '29 người', '100 người', '11 người'], dtype=object)"
      ]
     },
     "execution_count": 14,
     "metadata": {},
     "output_type": "execute_result"
    }
   ],
   "source": [
    "df['Quantity'].unique()"
   ]
  },
  {
   "attachments": {},
   "cell_type": "markdown",
   "metadata": {},
   "source": [
    "Ở cột này ta thấy có 1 điểm chung là các phần tử dư từ `người`, do đó ta chỉ cần lọc từ người ra khỏi các phần tử của cột là được."
   ]
  },
  {
   "cell_type": "code",
   "execution_count": 15,
   "metadata": {},
   "outputs": [],
   "source": [
    "df['Quantity'] = df['Quantity'].apply(replace_str, str = ' người')"
   ]
  },
  {
   "cell_type": "code",
   "execution_count": 16,
   "metadata": {},
   "outputs": [
    {
     "data": {
      "text/plain": [
       "0       5\n",
       "1       5\n",
       "2       1\n",
       "3       1\n",
       "4       3\n",
       "       ..\n",
       "2331    1\n",
       "2332    1\n",
       "2333    3\n",
       "2334    1\n",
       "2335    1\n",
       "Name: Quantity, Length: 2336, dtype: int64"
      ]
     },
     "execution_count": 16,
     "metadata": {},
     "output_type": "execute_result"
    }
   ],
   "source": [
    "df['Quantity'] = pd.to_numeric(df['Quantity'])\n",
    "df['Quantity']"
   ]
  },
  {
   "attachments": {},
   "cell_type": "markdown",
   "metadata": {},
   "source": [
    "#### **XỬ LÝ CÁC CỘT DATETIME**"
   ]
  },
  {
   "attachments": {},
   "cell_type": "markdown",
   "metadata": {},
   "source": [
    "Ta thấy cột DeadlineHoSo chứa dữ liệu là ngày tháng nhưng lại có kiểu dữ liệu là object nên cần phải chuyển về dạng datetime"
   ]
  },
  {
   "cell_type": "code",
   "execution_count": 17,
   "metadata": {},
   "outputs": [
    {
     "data": {
      "text/plain": [
       "0      2023-01-31\n",
       "1      2023-04-30\n",
       "2      2023-01-30\n",
       "3      2023-01-31\n",
       "4      2023-01-31\n",
       "          ...    \n",
       "2331   2023-01-31\n",
       "2332   2023-01-31\n",
       "2333   2023-01-20\n",
       "2334   2023-01-31\n",
       "2335   2023-01-18\n",
       "Name: DeadlineHoSo, Length: 2336, dtype: datetime64[ns]"
      ]
     },
     "execution_count": 17,
     "metadata": {},
     "output_type": "execute_result"
    }
   ],
   "source": [
    "df['DeadlineHoSo'] = pd.to_datetime(df['DeadlineHoSo'])\n",
    "df['DeadlineHoSo']"
   ]
  },
  {
   "attachments": {},
   "cell_type": "markdown",
   "metadata": {},
   "source": [
    "### Kiểm tra lại các cột xem dữ liệu đã đúng chưa."
   ]
  },
  {
   "cell_type": "code",
   "execution_count": 18,
   "metadata": {},
   "outputs": [
    {
     "name": "stdout",
     "output_type": "stream",
     "text": [
      "<class 'pandas.core.frame.DataFrame'>\n",
      "RangeIndex: 2336 entries, 0 to 2335\n",
      "Data columns (total 12 columns):\n",
      " #   Column        Non-Null Count  Dtype         \n",
      "---  ------        --------------  -----         \n",
      " 0   Title         2336 non-null   object        \n",
      " 1   Company       2336 non-null   object        \n",
      " 2   DeadlineHoSo  2336 non-null   datetime64[ns]\n",
      " 3   Salary        1571 non-null   object        \n",
      " 4   Quantity      2336 non-null   int64         \n",
      " 5   Hthuc         2336 non-null   object        \n",
      " 6   CapBac        2336 non-null   object        \n",
      " 7   GioiTinh      2336 non-null   object        \n",
      " 8   KinhNghiem    2336 non-null   float64       \n",
      " 9   DiaChi        2336 non-null   object        \n",
      " 10  Skill         984 non-null    object        \n",
      " 11  JobData       2330 non-null   object        \n",
      "dtypes: datetime64[ns](1), float64(1), int64(1), object(9)\n",
      "memory usage: 219.1+ KB\n"
     ]
    }
   ],
   "source": [
    "df.info()"
   ]
  },
  {
   "attachments": {},
   "cell_type": "markdown",
   "metadata": {},
   "source": [
    "Có vẻ kiểu dữ liệu đã đúng theo ý ta muốn."
   ]
  },
  {
   "attachments": {},
   "cell_type": "markdown",
   "metadata": {},
   "source": [
    "### Xử lý NaN"
   ]
  },
  {
   "attachments": {},
   "cell_type": "markdown",
   "metadata": {},
   "source": [
    "Chúng ta coi thử các cột nào có ô NaN, mỗi cột có bao nhiêu ô NaN"
   ]
  },
  {
   "cell_type": "code",
   "execution_count": 19,
   "metadata": {},
   "outputs": [
    {
     "data": {
      "text/plain": [
       "Title              0\n",
       "Company            0\n",
       "DeadlineHoSo       0\n",
       "Salary           765\n",
       "Quantity           0\n",
       "Hthuc              0\n",
       "CapBac             0\n",
       "GioiTinh           0\n",
       "KinhNghiem         0\n",
       "DiaChi             0\n",
       "Skill           1352\n",
       "JobData            6\n",
       "dtype: int64"
      ]
     },
     "execution_count": 19,
     "metadata": {},
     "output_type": "execute_result"
    }
   ],
   "source": [
    "df.isnull().sum()"
   ]
  },
  {
   "attachments": {},
   "cell_type": "markdown",
   "metadata": {},
   "source": [
    "Ở cột Salary, những ô NaN là những ô mà có giá trị là thoả thuận về lương, vì không thể đoán hay tính toán nên ta cứ để nguyên đó.(Không nên bỏ vì nó hơn 700 dòng).\n",
    "\n",
    "Ở cột Skill thì có những công việc không yêu cầu ứng cử viên có kĩ năng gì cả nên tốt nhất cũng là nên giữ nguyên luôn"
   ]
  },
  {
   "attachments": {},
   "cell_type": "markdown",
   "metadata": {},
   "source": [
    "### Với mỗi cột có kiểu dữ liệu dạng số, các giá trị được phân bố như thế nào?"
   ]
  },
  {
   "cell_type": "code",
   "execution_count": 20,
   "metadata": {},
   "outputs": [
    {
     "data": {
      "text/html": [
       "<div>\n",
       "<style scoped>\n",
       "    .dataframe tbody tr th:only-of-type {\n",
       "        vertical-align: middle;\n",
       "    }\n",
       "\n",
       "    .dataframe tbody tr th {\n",
       "        vertical-align: top;\n",
       "    }\n",
       "\n",
       "    .dataframe thead th {\n",
       "        text-align: right;\n",
       "    }\n",
       "</style>\n",
       "<table border=\"1\" class=\"dataframe\">\n",
       "  <thead>\n",
       "    <tr style=\"text-align: right;\">\n",
       "      <th></th>\n",
       "      <th>Quantity</th>\n",
       "      <th>KinhNghiem</th>\n",
       "    </tr>\n",
       "  </thead>\n",
       "  <tbody>\n",
       "    <tr>\n",
       "      <th>missing_ratio</th>\n",
       "      <td>0.0</td>\n",
       "      <td>0.0</td>\n",
       "    </tr>\n",
       "    <tr>\n",
       "      <th>min</th>\n",
       "      <td>1.0</td>\n",
       "      <td>0.0</td>\n",
       "    </tr>\n",
       "    <tr>\n",
       "      <th>lower_quartile</th>\n",
       "      <td>1.0</td>\n",
       "      <td>1.0</td>\n",
       "    </tr>\n",
       "    <tr>\n",
       "      <th>median</th>\n",
       "      <td>2.0</td>\n",
       "      <td>1.0</td>\n",
       "    </tr>\n",
       "    <tr>\n",
       "      <th>upper_quartile</th>\n",
       "      <td>5.0</td>\n",
       "      <td>2.0</td>\n",
       "    </tr>\n",
       "    <tr>\n",
       "      <th>max</th>\n",
       "      <td>200.0</td>\n",
       "      <td>5.5</td>\n",
       "    </tr>\n",
       "  </tbody>\n",
       "</table>\n",
       "</div>"
      ],
      "text/plain": [
       "                Quantity  KinhNghiem\n",
       "missing_ratio        0.0         0.0\n",
       "min                  1.0         0.0\n",
       "lower_quartile       1.0         1.0\n",
       "median               2.0         1.0\n",
       "upper_quartile       5.0         2.0\n",
       "max                200.0         5.5"
      ]
     },
     "execution_count": 20,
     "metadata": {},
     "output_type": "execute_result"
    }
   ],
   "source": [
    "dtypes = df.dtypes\n",
    "ind = dtypes[(dtypes == np.float64) | (dtypes == np.int64)].index\n",
    "num_col_info_df = pd.DataFrame([],index= [\"missing_ratio\", \"min\", \"lower_quartile\", \"median\", \"upper_quartile\", \"max\" ])\n",
    "for i in ind:\n",
    "    data = np.array(df[i].isna().sum()*100/len(df)) #tinh phan tram gia tri thieu\n",
    "    data1 = np.nanpercentile(df[i],(0,25,50,75,100)) #tinh min,lower,median,upper,max\n",
    "    data = np.append(data,data1)\n",
    "    num_col_info_df[i] = data.round(1)\n",
    "num_col_info_df"
   ]
  },
  {
   "attachments": {},
   "cell_type": "markdown",
   "metadata": {},
   "source": [
    "Ta thấy giá trị max = 200 ở cột Quantity khá bất thường, ta sẽ in thử để kiểm tra"
   ]
  },
  {
   "cell_type": "code",
   "execution_count": 21,
   "metadata": {},
   "outputs": [
    {
     "data": {
      "text/html": [
       "<div>\n",
       "<style scoped>\n",
       "    .dataframe tbody tr th:only-of-type {\n",
       "        vertical-align: middle;\n",
       "    }\n",
       "\n",
       "    .dataframe tbody tr th {\n",
       "        vertical-align: top;\n",
       "    }\n",
       "\n",
       "    .dataframe thead th {\n",
       "        text-align: right;\n",
       "    }\n",
       "</style>\n",
       "<table border=\"1\" class=\"dataframe\">\n",
       "  <thead>\n",
       "    <tr style=\"text-align: right;\">\n",
       "      <th></th>\n",
       "      <th>Title</th>\n",
       "      <th>Company</th>\n",
       "      <th>DeadlineHoSo</th>\n",
       "      <th>Salary</th>\n",
       "      <th>Quantity</th>\n",
       "      <th>Hthuc</th>\n",
       "      <th>CapBac</th>\n",
       "      <th>GioiTinh</th>\n",
       "      <th>KinhNghiem</th>\n",
       "      <th>DiaChi</th>\n",
       "      <th>Skill</th>\n",
       "      <th>JobData</th>\n",
       "    </tr>\n",
       "  </thead>\n",
       "  <tbody>\n",
       "    <tr>\n",
       "      <th>1091</th>\n",
       "      <td>Developer</td>\n",
       "      <td>FPT Software</td>\n",
       "      <td>2022-12-31</td>\n",
       "      <td>(400.0, 800.0)</td>\n",
       "      <td>200</td>\n",
       "      <td>Toàn thời gian</td>\n",
       "      <td>Nhân viên</td>\n",
       "      <td>Không yêu cầu</td>\n",
       "      <td>0.5</td>\n",
       "      <td>Hà Nội,Cầu Giấy</td>\n",
       "      <td>.NET,Agile,Android,AngularJS,ASP.NET,C#,C++,CS...</td>\n",
       "      <td>,• Là sinh viên đã/sắp tốt nghiệp chuyên ngàn...</td>\n",
       "    </tr>\n",
       "  </tbody>\n",
       "</table>\n",
       "</div>"
      ],
      "text/plain": [
       "          Title       Company DeadlineHoSo          Salary  Quantity  \\\n",
       "1091  Developer  FPT Software   2022-12-31  (400.0, 800.0)       200   \n",
       "\n",
       "               Hthuc     CapBac       GioiTinh  KinhNghiem           DiaChi  \\\n",
       "1091  Toàn thời gian  Nhân viên  Không yêu cầu         0.5  Hà Nội,Cầu Giấy   \n",
       "\n",
       "                                                  Skill  \\\n",
       "1091  .NET,Agile,Android,AngularJS,ASP.NET,C#,C++,CS...   \n",
       "\n",
       "                                                JobData  \n",
       "1091   ,• Là sinh viên đã/sắp tốt nghiệp chuyên ngàn...  "
      ]
     },
     "execution_count": 21,
     "metadata": {},
     "output_type": "execute_result"
    }
   ],
   "source": [
    "df[df[\"Quantity\"] == 200.0]"
   ]
  },
  {
   "attachments": {},
   "cell_type": "markdown",
   "metadata": {},
   "source": [
    "Có vẻ là công ty này đang tuyển nhiều thực tập sinh cho nhiều lĩnh vực nên mới tuyển nhiều như vậy"
   ]
  },
  {
   "attachments": {},
   "cell_type": "markdown",
   "metadata": {},
   "source": [
    "Ở cột Salary, ta cũng kiểm tra thử xem có gì bất thường không.\n",
    "\n",
    "Ta sẽ coi giá trị min max của nó bằng cách sort"
   ]
  },
  {
   "cell_type": "code",
   "execution_count": 22,
   "metadata": {},
   "outputs": [
    {
     "name": "stdout",
     "output_type": "stream",
     "text": [
      "Min: (40, 140)\n",
      "Max: (3499800, 3500000)\n"
     ]
    }
   ],
   "source": [
    "salary_min_max =  df[\"Salary\"].sort_values().dropna()\n",
    "print(\"Min: {}\".format(salary_min_max.iloc[0]))\n",
    "print(\"Max: {}\".format(salary_min_max.iloc[len(salary_min_max)-1]))"
   ]
  },
  {
   "attachments": {},
   "cell_type": "markdown",
   "metadata": {},
   "source": [
    "Rõ ràng giá trị max cột này có vấn đề, ta sẽ in dòng này thử ra xem sao"
   ]
  },
  {
   "cell_type": "code",
   "execution_count": 23,
   "metadata": {},
   "outputs": [
    {
     "data": {
      "text/html": [
       "<div>\n",
       "<style scoped>\n",
       "    .dataframe tbody tr th:only-of-type {\n",
       "        vertical-align: middle;\n",
       "    }\n",
       "\n",
       "    .dataframe tbody tr th {\n",
       "        vertical-align: top;\n",
       "    }\n",
       "\n",
       "    .dataframe thead th {\n",
       "        text-align: right;\n",
       "    }\n",
       "</style>\n",
       "<table border=\"1\" class=\"dataframe\">\n",
       "  <thead>\n",
       "    <tr style=\"text-align: right;\">\n",
       "      <th></th>\n",
       "      <th>Title</th>\n",
       "      <th>Company</th>\n",
       "      <th>DeadlineHoSo</th>\n",
       "      <th>Salary</th>\n",
       "      <th>Quantity</th>\n",
       "      <th>Hthuc</th>\n",
       "      <th>CapBac</th>\n",
       "      <th>GioiTinh</th>\n",
       "      <th>KinhNghiem</th>\n",
       "      <th>DiaChi</th>\n",
       "      <th>Skill</th>\n",
       "      <th>JobData</th>\n",
       "    </tr>\n",
       "  </thead>\n",
       "  <tbody>\n",
       "    <tr>\n",
       "      <th>2262</th>\n",
       "      <td>Project Manager</td>\n",
       "      <td>FPT Software</td>\n",
       "      <td>2023-01-13</td>\n",
       "      <td>(3499800, 3500000)</td>\n",
       "      <td>5</td>\n",
       "      <td>Toàn thời gian</td>\n",
       "      <td>Quản lý / Giám sát</td>\n",
       "      <td>Không yêu cầu</td>\n",
       "      <td>4.0</td>\n",
       "      <td>Hà Nội,Cầu Giấy,Hồ Chí Minh,Quận 9</td>\n",
       "      <td>NaN</td>\n",
       "      <td>WHAT YOU’LL BE RESPONSIBLE FOR:,• Coordinate i...</td>\n",
       "    </tr>\n",
       "  </tbody>\n",
       "</table>\n",
       "</div>"
      ],
      "text/plain": [
       "                Title       Company DeadlineHoSo              Salary  \\\n",
       "2262  Project Manager  FPT Software   2023-01-13  (3499800, 3500000)   \n",
       "\n",
       "      Quantity           Hthuc              CapBac       GioiTinh  KinhNghiem  \\\n",
       "2262         5  Toàn thời gian  Quản lý / Giám sát  Không yêu cầu         4.0   \n",
       "\n",
       "                                  DiaChi Skill  \\\n",
       "2262  Hà Nội,Cầu Giấy,Hồ Chí Minh,Quận 9   NaN   \n",
       "\n",
       "                                                JobData  \n",
       "2262  WHAT YOU’LL BE RESPONSIBLE FOR:,• Coordinate i...  "
      ]
     },
     "execution_count": 23,
     "metadata": {},
     "output_type": "execute_result"
    }
   ],
   "source": [
    "df[df[\"Salary\"] == (3499800, 3500000)]"
   ]
  },
  {
   "attachments": {},
   "cell_type": "markdown",
   "metadata": {},
   "source": [
    "Theo những gì bài đăng nói thì mức lương đúng chỉ là 3500 USD thôi, ta sẽ điều chỉnh dòng này về đúng giá trị"
   ]
  },
  {
   "cell_type": "code",
   "execution_count": 24,
   "metadata": {},
   "outputs": [],
   "source": [
    "df.at[2262,'Salary'] = (3400, 3500)"
   ]
  },
  {
   "cell_type": "code",
   "execution_count": 25,
   "metadata": {},
   "outputs": [
    {
     "data": {
      "text/plain": [
       "(3400, 3500)"
      ]
     },
     "execution_count": 25,
     "metadata": {},
     "output_type": "execute_result"
    }
   ],
   "source": [
    "df.loc[2262]['Salary']"
   ]
  },
  {
   "attachments": {},
   "cell_type": "markdown",
   "metadata": {},
   "source": [
    "### Với mỗi cột có kiểu dữ liệu không phải dạng số, các giá trị được phân bố như thế nào?"
   ]
  },
  {
   "attachments": {},
   "cell_type": "markdown",
   "metadata": {},
   "source": [
    "Ta chọn các cột Company, Hthuc, CapBac, GioiTinh, DiaChi, Skill để xem sự phân bố"
   ]
  },
  {
   "attachments": {},
   "cell_type": "markdown",
   "metadata": {},
   "source": [
    "Ta sẽ có các cột có multichoice như là CapBac, DiaChi, Skill. Mỗi ô sẽ là tổ hợp của các choice, vì thế nên nếu đếm trực tiếp các giá trị này sẽ không có ý nghĩa lắm (vì tổ hợp choice khá nhiều) nên ta sẽ đếm số lượng riêng của từng choice"
   ]
  },
  {
   "attachments": {},
   "cell_type": "markdown",
   "metadata": {},
   "source": [
    "Ta sẽ tính:\n",
    "- Tỉ lệ % (từ 0 đến 100) các giá trị thiếu \n",
    "- Số lượng các giá trị khác nhau\n",
    "- Tỉ lệ % (từ 0 đến 100) của mỗi giá trị được sort theo tỉ lệ % giảm dần"
   ]
  },
  {
   "cell_type": "code",
   "execution_count": 26,
   "metadata": {},
   "outputs": [],
   "source": [
    "multichoice_cols = ['CapBac', 'DiaChi', 'Skill']"
   ]
  },
  {
   "cell_type": "code",
   "execution_count": 27,
   "metadata": {},
   "outputs": [],
   "source": [
    "df['CapBac'] = df['CapBac'].str.replace('/',',')"
   ]
  },
  {
   "cell_type": "code",
   "execution_count": 28,
   "metadata": {},
   "outputs": [],
   "source": [
    "cat_col = ['Company','Hthuc', 'CapBac', 'GioiTinh', 'DiaChi', 'Skill']\n",
    "\n",
    "cat_col_info_df = pd.DataFrame(data = [],index= [\"missing_ratio\", \"num_values\", \"value_ratios\"])\n",
    "\n",
    "for i in cat_col:\n",
    "    col_info = round(df[i].isna().sum()*100/len(df),3)\n",
    "    \n",
    "    data = df[i]\n",
    "    not_nan_data = data[~pd.isnull(data)]\n",
    "    \n",
    "    if i not in multichoice_cols:\n",
    "        num_val = len(not_nan_data.unique())\n",
    "        d = not_nan_data.value_counts()\n",
    "        \n",
    "    else:\n",
    "        choices = []\n",
    "        for j in not_nan_data:\n",
    "            choice_row = j.split(',')\n",
    "            choices.extend(choice_row)\n",
    "        num_val = len(set(choices))\n",
    "        \n",
    "        choices = pd.Index(choices)\n",
    "        d = choices.value_counts()\n",
    "        \n",
    "    \n",
    "    k = d.index\n",
    "    v = d.values\n",
    "    dic = {}\n",
    "    for j in range(len(d)):\n",
    "        dic[k[j]] = round(v[j]*100/v.sum(),3)   \n",
    "    cat_col_info_df[i] = [col_info,num_val,dic]"
   ]
  },
  {
   "cell_type": "code",
   "execution_count": 29,
   "metadata": {},
   "outputs": [
    {
     "data": {
      "text/plain": [
       "{'Nhân viên': 85.331,\n",
       " 'Thực tập sinh': 5.616,\n",
       " 'Trưởng nhóm': 4.61,\n",
       " 'Quản lý ': 1.09,\n",
       " ' Giám sát': 1.09,\n",
       " 'Trưởng': 1.006,\n",
       " 'Phó phòng': 1.006,\n",
       " 'Giám đốc': 0.21,\n",
       " 'Trưởng chi nhánh': 0.042}"
      ]
     },
     "execution_count": 29,
     "metadata": {},
     "output_type": "execute_result"
    }
   ],
   "source": [
    "cat_col_info_df.loc['value_ratios']['CapBac']"
   ]
  },
  {
   "attachments": {},
   "cell_type": "markdown",
   "metadata": {},
   "source": [
    "Dữ liệu không có gì quá bất thường"
   ]
  },
  {
   "attachments": {},
   "cell_type": "markdown",
   "metadata": {},
   "source": [
    "Sau đó ta sẽ ghi dữ liệu ra 1 file mới tên là `data.csv`"
   ]
  },
  {
   "cell_type": "code",
   "execution_count": 30,
   "metadata": {},
   "outputs": [],
   "source": [
    "df.to_csv('data.csv')"
   ]
  }
 ],
 "metadata": {
  "kernelspec": {
   "display_name": "Python 3",
   "language": "python",
   "name": "python3"
  },
  "language_info": {
   "codemirror_mode": {
    "name": "ipython",
    "version": 3
   },
   "file_extension": ".py",
   "mimetype": "text/x-python",
   "name": "python",
   "nbconvert_exporter": "python",
   "pygments_lexer": "ipython3",
   "version": "3.10.9"
  },
  "orig_nbformat": 4,
  "vscode": {
   "interpreter": {
    "hash": "65a440aeac0c89e2af7569e0aa53b64434c4b69eb6285e2b0d174d9bca190d54"
   }
  }
 },
 "nbformat": 4,
 "nbformat_minor": 2
}
