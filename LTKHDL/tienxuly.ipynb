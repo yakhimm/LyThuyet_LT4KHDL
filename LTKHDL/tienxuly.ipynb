{
 "cells": [
  {
   "attachments": {},
   "cell_type": "markdown",
   "metadata": {},
   "source": [
    "# **B. TIỀN XỬ LÝ**"
   ]
  },
  {
   "attachments": {},
   "cell_type": "markdown",
   "metadata": {},
   "source": [
    "#### Trước tiên ta hãy khai báo các thư viện"
   ]
  },
  {
   "cell_type": "code",
   "execution_count": 81,
   "metadata": {},
   "outputs": [],
   "source": [
    "import matplotlib.pyplot as plt\n",
    "import seaborn as sns\n",
    "import pandas as pd\n",
    "import numpy as np\n",
    "import warnings\n",
    "import re \n",
    "warnings.filterwarnings('ignore')"
   ]
  },
  {
   "attachments": {},
   "cell_type": "markdown",
   "metadata": {},
   "source": [
    "#### Sau đó, ta sẽ đọc file `collect_data\\collect_data\\dataset\\info.csvinfo.csv` sau khi thu thập dữ liệu và lưu vào biến `df` là một dataframe"
   ]
  },
  {
   "cell_type": "code",
   "execution_count": 82,
   "metadata": {},
   "outputs": [
    {
     "data": {
      "text/html": [
       "<div>\n",
       "<style scoped>\n",
       "    .dataframe tbody tr th:only-of-type {\n",
       "        vertical-align: middle;\n",
       "    }\n",
       "\n",
       "    .dataframe tbody tr th {\n",
       "        vertical-align: top;\n",
       "    }\n",
       "\n",
       "    .dataframe thead th {\n",
       "        text-align: right;\n",
       "    }\n",
       "</style>\n",
       "<table border=\"1\" class=\"dataframe\">\n",
       "  <thead>\n",
       "    <tr style=\"text-align: right;\">\n",
       "      <th></th>\n",
       "      <th>Title</th>\n",
       "      <th>Company</th>\n",
       "      <th>DeadlineHoSo</th>\n",
       "      <th>Salary</th>\n",
       "      <th>Quantity</th>\n",
       "      <th>Hthuc</th>\n",
       "      <th>CapBac</th>\n",
       "      <th>GioiTinh</th>\n",
       "      <th>KinhNghiem</th>\n",
       "      <th>DiaChi</th>\n",
       "      <th>Skill</th>\n",
       "      <th>JobData</th>\n",
       "    </tr>\n",
       "  </thead>\n",
       "  <tbody>\n",
       "    <tr>\n",
       "      <th>0</th>\n",
       "      <td>Business Analyst</td>\n",
       "      <td>Asilla Việt Nam</td>\n",
       "      <td>Hạn nộp hồ sơ: 31/01/2023\\r\\n</td>\n",
       "      <td>\\r\\nTới 1,400 USD\\r\\n</td>\n",
       "      <td>5 người</td>\n",
       "      <td>Toàn thời gian</td>\n",
       "      <td>Nhân viên</td>\n",
       "      <td>Không yêu cầu</td>\n",
       "      <td>3 năm</td>\n",
       "      <td>Cầu Giấy,Hà Nội</td>\n",
       "      <td>NaN</td>\n",
       "      <td>- Collaborate with Product Manager to understa...</td>\n",
       "    </tr>\n",
       "    <tr>\n",
       "      <th>1</th>\n",
       "      <td>Android Developer</td>\n",
       "      <td>FPT Software</td>\n",
       "      <td>Hạn nộp hồ sơ: 30/04/2023\\r\\n</td>\n",
       "      <td>\\r\\nThoả thuận\\r\\n</td>\n",
       "      <td>5 người</td>\n",
       "      <td>Toàn thời gian</td>\n",
       "      <td>Nhân viên</td>\n",
       "      <td>Không yêu cầu</td>\n",
       "      <td>3 năm</td>\n",
       "      <td>Hà Nội,Cầu Giấy,Thạch Thất</td>\n",
       "      <td>NaN</td>\n",
       "      <td>• Working in Global delivery team (US, China, ...</td>\n",
       "    </tr>\n",
       "    <tr>\n",
       "      <th>2</th>\n",
       "      <td>Nhân Viên IT</td>\n",
       "      <td>Công ty CPXD&amp;PTHT Tây Hồ</td>\n",
       "      <td>Hạn nộp hồ sơ: 30/01/2023\\r\\n</td>\n",
       "      <td>\\r\\nThoả thuận\\r\\n</td>\n",
       "      <td>1 người</td>\n",
       "      <td>Toàn thời gian</td>\n",
       "      <td>Nhân viên</td>\n",
       "      <td>Nam</td>\n",
       "      <td>Không yêu cầu kinh nghiệm</td>\n",
       "      <td>Vĩnh Phúc,TP Vĩnh Yên</td>\n",
       "      <td>NaN</td>\n",
       "      <td>Chịu trách nhiệm giám sát hoạt động pho...</td>\n",
       "    </tr>\n",
       "    <tr>\n",
       "      <th>3</th>\n",
       "      <td>\\r\\nChuyên Viên Quản Trị Cơ Sở Dữ Liệu (Databa...</td>\n",
       "      <td>Ngân Hàng Thương Mại Cổ Phần Kiên Long</td>\n",
       "      <td>Hạn nộp hồ sơ: 31/01/2023\\r\\n</td>\n",
       "      <td>\\r\\n15-30 triệu\\r\\n</td>\n",
       "      <td>1 người</td>\n",
       "      <td>Toàn thời gian</td>\n",
       "      <td>Nhân viên</td>\n",
       "      <td>Nam</td>\n",
       "      <td>3 năm</td>\n",
       "      <td>Hà Nội,Nam Từ Liêm</td>\n",
       "      <td>Linux,Oracle,SQL,Unix</td>\n",
       "      <td>Hệ thống cơ sở dữ liệu Oracle,Hệ thống Oracle ...</td>\n",
       "    </tr>\n",
       "    <tr>\n",
       "      <th>4</th>\n",
       "      <td>Java Developer</td>\n",
       "      <td>CÔNG TY TNHH YOUMED VIỆT NAM</td>\n",
       "      <td>Hạn nộp hồ sơ: 31/01/2023\\r\\n</td>\n",
       "      <td>\\r\\nThoả thuận\\r\\n</td>\n",
       "      <td>3 người</td>\n",
       "      <td>Toàn thời gian</td>\n",
       "      <td>Nhân viên</td>\n",
       "      <td>Không yêu cầu</td>\n",
       "      <td>1 năm</td>\n",
       "      <td>Hồ Chí Minh,Quận 10</td>\n",
       "      <td>Java,Message Queue,Back-End Web Development</td>\n",
       "      <td>Phát triển tính năng đặt khám, telemedicine, s...</td>\n",
       "    </tr>\n",
       "  </tbody>\n",
       "</table>\n",
       "</div>"
      ],
      "text/plain": [
       "                                               Title  \\\n",
       "0                                   Business Analyst   \n",
       "1                                  Android Developer   \n",
       "2                                       Nhân Viên IT   \n",
       "3  \\r\\nChuyên Viên Quản Trị Cơ Sở Dữ Liệu (Databa...   \n",
       "4                                     Java Developer   \n",
       "\n",
       "                                  Company                    DeadlineHoSo  \\\n",
       "0                         Asilla Việt Nam   Hạn nộp hồ sơ: 31/01/2023\\r\\n   \n",
       "1                            FPT Software   Hạn nộp hồ sơ: 30/04/2023\\r\\n   \n",
       "2                Công ty CPXD&PTHT Tây Hồ   Hạn nộp hồ sơ: 30/01/2023\\r\\n   \n",
       "3  Ngân Hàng Thương Mại Cổ Phần Kiên Long   Hạn nộp hồ sơ: 31/01/2023\\r\\n   \n",
       "4            CÔNG TY TNHH YOUMED VIỆT NAM   Hạn nộp hồ sơ: 31/01/2023\\r\\n   \n",
       "\n",
       "                  Salary Quantity           Hthuc     CapBac       GioiTinh  \\\n",
       "0  \\r\\nTới 1,400 USD\\r\\n  5 người  Toàn thời gian  Nhân viên  Không yêu cầu   \n",
       "1     \\r\\nThoả thuận\\r\\n  5 người  Toàn thời gian  Nhân viên  Không yêu cầu   \n",
       "2     \\r\\nThoả thuận\\r\\n  1 người  Toàn thời gian  Nhân viên            Nam   \n",
       "3    \\r\\n15-30 triệu\\r\\n  1 người  Toàn thời gian  Nhân viên            Nam   \n",
       "4     \\r\\nThoả thuận\\r\\n  3 người  Toàn thời gian  Nhân viên  Không yêu cầu   \n",
       "\n",
       "                  KinhNghiem                      DiaChi  \\\n",
       "0                      3 năm             Cầu Giấy,Hà Nội   \n",
       "1                      3 năm  Hà Nội,Cầu Giấy,Thạch Thất   \n",
       "2  Không yêu cầu kinh nghiệm       Vĩnh Phúc,TP Vĩnh Yên   \n",
       "3                      3 năm          Hà Nội,Nam Từ Liêm   \n",
       "4                      1 năm         Hồ Chí Minh,Quận 10   \n",
       "\n",
       "                                         Skill  \\\n",
       "0                                          NaN   \n",
       "1                                          NaN   \n",
       "2                                          NaN   \n",
       "3                        Linux,Oracle,SQL,Unix   \n",
       "4  Java,Message Queue,Back-End Web Development   \n",
       "\n",
       "                                             JobData  \n",
       "0  - Collaborate with Product Manager to understa...  \n",
       "1  • Working in Global delivery team (US, China, ...  \n",
       "2  Chịu trách nhiệm giám sát hoạt động pho...  \n",
       "3  Hệ thống cơ sở dữ liệu Oracle,Hệ thống Oracle ...  \n",
       "4  Phát triển tính năng đặt khám, telemedicine, s...  "
      ]
     },
     "execution_count": 82,
     "metadata": {},
     "output_type": "execute_result"
    }
   ],
   "source": [
    "df = pd.read_csv('collect_data\\collect_data\\dataset\\info.csv')\n",
    "df.head()"
   ]
  },
  {
   "cell_type": "code",
   "execution_count": 83,
   "metadata": {},
   "outputs": [
    {
     "data": {
      "text/plain": [
       "(2336, 12)"
      ]
     },
     "execution_count": 83,
     "metadata": {},
     "output_type": "execute_result"
    }
   ],
   "source": [
    "df.shape"
   ]
  },
  {
   "attachments": {},
   "cell_type": "markdown",
   "metadata": {},
   "source": [
    "#### Tiếp theo ta kiểm tra xem dữ liệu có bị trùng hay không bằng cách dùng hàm `duplicated` "
   ]
  },
  {
   "cell_type": "code",
   "execution_count": 84,
   "metadata": {},
   "outputs": [
    {
     "name": "stdout",
     "output_type": "stream",
     "text": [
      "Dữ liệu không bị trùng\n"
     ]
    }
   ],
   "source": [
    "isdup = df.duplicated().sum()\n",
    "if isdup != 0:\n",
    "    print('Dữ liệu bị trùng')\n",
    "    # Nếu trùng ta sẽ bỏ các dòng trùng đi\n",
    "    df = df.drop_duplicates()\n",
    "else:\n",
    "    print('Dữ liệu không bị trùng')"
   ]
  },
  {
   "attachments": {},
   "cell_type": "markdown",
   "metadata": {},
   "source": [
    "#### Sau khi đọc dữ liệu vào `df`, ta có thể thấy các cột có khá nhiều nội dung cần được format lại."
   ]
  },
  {
   "cell_type": "code",
   "execution_count": 85,
   "metadata": {},
   "outputs": [],
   "source": [
    "def replace_str(s, str, to_str = ''):\n",
    "    return s.replace(str, to_str)\n",
    "\n",
    "df['Title'] = df['Title'].apply(replace_str, str = '\\r\\n')\n",
    "\n",
    "df['DeadlineHoSo'] = df['DeadlineHoSo'].apply(replace_str, str = '\\r\\n')\n",
    "df['DeadlineHoSo'] = df['DeadlineHoSo'].apply(replace_str, str = 'Hạn nộp hồ sơ:')"
   ]
  },
  {
   "attachments": {},
   "cell_type": "markdown",
   "metadata": {},
   "source": [
    "## **XỬ LÝ CÁC CỘT NUMERIC** \n",
    "Tiếp theo, ta thấy cột `Salary`, cột `KinhNghiem` và cột `Quantity` là 3 cột có thể đưa về `numeric` hoặc `tuple`.\n",
    "\n",
    "Do đó, ta sẽ xử lý từng cột để các cột trở về đúng định dạng của nó."
   ]
  },
  {
   "attachments": {},
   "cell_type": "markdown",
   "metadata": {},
   "source": [
    "### **1. Cột `Salary`**\n",
    "Kiểm tra xe cột `Salary` có các thành phần nào, có gì giống và khác nhau giữa các thành phần."
   ]
  },
  {
   "cell_type": "code",
   "execution_count": 86,
   "metadata": {},
   "outputs": [
    {
     "data": {
      "text/plain": [
       "array(['\\r\\nTới 1,400 USD\\r\\n', '\\r\\nThoả thuận\\r\\n',\n",
       "       '\\r\\n15-30 triệu\\r\\n', '\\r\\nTrên 15 triệu\\r\\n',\n",
       "       '\\r\\nTới 20 triệu\\r\\n', '\\r\\nTới 1,800 USD\\r\\n ',\n",
       "       '\\r\\nTrên 10 triệu\\r\\n', '\\r\\n14-20 triệu\\r\\n',\n",
       "       '\\r\\nTới 2,100 USD\\r\\n', '\\r\\n10-20 triệu\\r\\n',\n",
       "       '\\r\\nTới 8 triệu\\r\\n', '\\r\\n8-30 triệu\\r\\n',\n",
       "       '\\r\\nTới 50 triệu\\r\\n', '\\r\\nTới 40 triệu\\r\\n',\n",
       "       '\\r\\n700-2,000 USD\\r\\n', '\\r\\nTới 22 triệu\\r\\n',\n",
       "       '\\r\\nTới 4,000 USD\\r\\n', '\\r\\nTới 30 triệu\\r\\n',\n",
       "       '\\r\\nTới 1,500 USD\\r\\n', '\\r\\n18-50 triệu\\r\\n',\n",
       "       '\\r\\n500-1,000 USD\\r\\n', '\\r\\n Tới 40 triệu\\r\\n',\n",
       "       '\\r\\n25-30 triệu\\r\\n', '\\r\\n Thoả thuận\\r\\n',\n",
       "       '\\r\\n10-15 triệu\\r\\n', '\\r\\nTrên 8 triệu\\r\\n',\n",
       "       '\\r\\nTới 17 triệu\\r\\n', '\\r\\n20-40 triệu\\r\\n', '\\r\\n2-4 triệu\\r\\n',\n",
       "       '\\r\\nTới 35 triệu\\r\\n', '\\r\\n12-30 triệu\\r\\n',\n",
       "       '\\r\\nTới 1,200 USD\\r\\n', '\\r\\n10-25 triệu\\r\\n',\n",
       "       '\\r\\n20-30 triệu\\r\\n', '\\r\\n18-25 triệu\\r\\n',\n",
       "       '\\r\\nTới 2,000 USD\\r\\n', '\\r\\n15-18 triệu\\r\\n',\n",
       "       '\\r\\n18-30 triệu\\r\\n', '\\r\\nTới 25 triệu\\r\\n',\n",
       "       '\\r\\n8-12 triệu\\r\\n', '\\r\\n8-15 triệu\\r\\n', '\\r\\n8-14 triệu\\r\\n',\n",
       "       '\\r\\n7-8 triệu\\r\\n', '\\r\\n9-15 triệu\\r\\n', '\\r\\n13-20 triệu\\r\\n',\n",
       "       '\\r\\n18-35 triệu\\r\\n', '\\r\\nTới 3 triệu\\r\\n',\n",
       "       '\\r\\n23-40 triệu\\r\\n', '\\r\\n2,000-4,000 USD\\r\\n',\n",
       "       '\\r\\nTới 15 triệu\\r\\n', '\\r\\n15-35 triệu\\r\\n',\n",
       "       '\\r\\n7-15 triệu\\r\\n', '\\r\\n Tới 1,500 USD\\r\\n',\n",
       "       '\\r\\n2-10 triệu\\r\\n', '\\r\\nTrên 20 triệu\\r\\n',\n",
       "       '\\r\\n11-46 triệu\\r\\n', '\\r\\n10-30 triệu\\r\\n',\n",
       "       '\\r\\n11-49 triệu\\r\\n', '\\r\\n500-2,000 USD\\r\\n',\n",
       "       '\\r\\nTrên 60 triệu\\r\\n', '\\r\\n10-40 triệu\\r\\n',\n",
       "       '\\r\\n3-6 triệu\\r\\n', '\\r\\n13-25 triệu\\r\\n',\n",
       "       '\\r\\nTrên 11 triệu\\r\\n', '\\r\\nTrên 24 triệu\\r\\n',\n",
       "       '\\r\\n10-23 triệu\\r\\n', '\\r\\nTrên 18 triệu\\r\\n',\n",
       "       '\\r\\n7-10 triệu\\r\\n', '\\r\\n3.5-4 triệu\\r\\n', '\\r\\n6-8 triệu\\r\\n',\n",
       "       '\\r\\nTrên 3 triệu\\r\\n', '\\r\\n8-20 triệu\\r\\n',\n",
       "       '\\r\\nTới 2,400 USD\\r\\n', '\\r\\n750-2,200 USD\\r\\n',\n",
       "       '\\r\\n9-20 triệu\\r\\n', '\\r\\n7-12 triệu\\r\\n', '\\r\\n3-8 triệu\\r\\n',\n",
       "       '\\r\\n5-6 triệu\\r\\n ', '\\r\\n20-45 triệu\\r\\n', '\\r\\n25-50 triệu\\r\\n',\n",
       "       '\\r\\n1,500-2,500 USD\\r\\n', '\\r\\nTrên 7 triệu\\r\\n',\n",
       "       '\\r\\nTới 18 triệu\\r\\n', '\\r\\n23-45 triệu\\r\\n',\n",
       "       '\\r\\n30-35 triệu\\r\\n', '\\r\\nTới 10 triệu\\r\\n',\n",
       "       '\\r\\nTrên 9 triệu\\r\\n', '\\r\\nTrên 700 USD\\r\\n',\n",
       "       '\\r\\n6-15 triệu\\r\\n', '\\r\\nTới 13.5 triệu\\r\\n',\n",
       "       '\\r\\nTới 2,200 USD\\r\\n', '\\r\\nTrên 9.8 triệu\\r\\n',\n",
       "       '\\r\\n10-12 triệu\\r\\n', '\\r\\nTrên 14 triệu\\r\\n',\n",
       "       '\\r\\n15-25 triệu\\r\\n', '\\r\\n5-12 triệu\\r\\n',\n",
       "       '\\r\\nTrên 5 triệu\\r\\n', '\\r\\nTới 55 triệu\\r\\n',\n",
       "       '\\r\\nTới 8.5 triệu\\r\\n', '\\r\\n7-12 triệu\\r\\n ',\n",
       "       '\\r\\nTrên 4 triệu\\r\\n', '\\r\\n14-25 triệu\\r\\n',\n",
       "       '\\r\\nTới 1,000 USD\\r\\n', '\\r\\nTới 2,500 USD\\r\\n',\n",
       "       '\\r\\nTrên 1,000 USD\\r\\n', '\\r\\n1,000-2,000 USD\\r\\n',\n",
       "       '\\r\\n15-22 triệu\\r\\n', '\\r\\nTới 45 triệu\\r\\n',\n",
       "       '\\r\\nTới 4 triệu\\r\\n', '\\r\\n9-12 triệu\\r\\n', '\\r\\n4-7 triệu\\r\\n',\n",
       "       '\\r\\nTrên 12 triệu\\r\\n', '\\r\\nTới 25 triệu\\r\\n ',\n",
       "       '\\r\\n550-2,000 USD\\r\\n', '\\r\\n10-16 triệu\\r\\n',\n",
       "       '\\r\\nTới 5 triệu\\r\\n', '\\r\\n12-20 triệu\\r\\n',\n",
       "       '\\r\\n25-60 triệu\\r\\n', '\\r\\n300-2,000 USD\\r\\n',\n",
       "       '\\r\\n30-45 triệu\\r\\n', '\\r\\n35-40 triệu\\r\\n',\n",
       "       '\\r\\n12-15 triệu\\r\\n', '\\r\\n12-25 triệu\\r\\n',\n",
       "       '\\r\\n750-1,500 USD\\r\\n', '\\r\\n20-35 triệu\\r\\n',\n",
       "       '\\r\\n13-18 triệu\\r\\n', '\\r\\n 7-12 triệu\\r\\n',\n",
       "       '\\r\\nTrên 40 triệu\\r\\n', '\\r\\n6-10 triệu\\r\\n',\n",
       "       '\\r\\n8-25 triệu\\r\\n', '\\r\\n20-42 triệu\\r\\n', '\\r\\n 8-30 triệu\\r\\n',\n",
       "       '\\r\\n8-35 triệu\\r\\n', '\\r\\n15-20 triệu\\r\\n', '\\r\\n10-22 triệu\\r\\n',\n",
       "       '\\r\\n13-40 triệu\\r\\n', '\\r\\n8.5-12 triệu\\r\\n',\n",
       "       '\\r\\n12-16 triệu\\r\\n', '\\r\\n1,200-2,800 USD\\r\\n',\n",
       "       '\\r\\n1,500-2,000 USD\\r\\n', '\\r\\nTới 16 triệu\\r\\n',\n",
       "       '\\r\\n2-3 triệu\\r\\n', '\\r\\n1,600-2,000 USD\\r\\n',\n",
       "       '\\r\\nTrên 1,500 USD\\r\\n', '\\r\\nTới 12 triệu\\r\\n',\n",
       "       '\\r\\n10-35 triệu\\r\\n', '\\r\\nTới 3,000 USD\\r\\n',\n",
       "       '\\r\\n1,500-3,000 USD\\r\\n', '\\r\\nTới 800 USD\\r\\n',\n",
       "       '\\r\\n3-5 triệu\\r\\n', '\\r\\nTới 2 triệu\\r\\n', '\\r\\n20-25 triệu\\r\\n',\n",
       "       '\\r\\n750-1,000 USD\\r\\n', '\\r\\n1,000-2,500 USD\\r\\n',\n",
       "       '\\r\\nTới 6 triệu\\r\\n', '\\r\\n700-1,300 USD\\r\\n',\n",
       "       '\\r\\nTrên 16 triệu\\r\\n', '\\r\\n13-50 triệu\\r\\n',\n",
       "       '\\r\\n35-50 triệu\\r\\n', '\\r\\n5-15 triệu\\r\\n', '\\r\\n10-11 triệu\\r\\n',\n",
       "       '\\r\\n18-26 triệu\\r\\n', '\\r\\n12-18 triệu\\r\\n',\n",
       "       '\\r\\n16-20 triệu\\r\\n', '\\r\\n6-25 triệu\\r\\n', '\\r\\n10-50 triệu\\r\\n',\n",
       "       '\\r\\nTrên 25 triệu\\r\\n', '\\r\\nTới 42 triệu\\r\\n',\n",
       "       '\\r\\n8-18 triệu\\r\\n', '\\r\\n4-5 triệu\\r\\n',\n",
       "       '\\r\\n 700-2,000 USD\\r\\n', '\\r\\n800-1,500 USD\\r\\n',\n",
       "       '\\r\\n1,000-1,500 USD\\r\\n', '\\r\\n10-45 triệu\\r\\n',\n",
       "       '\\r\\n 8-10 triệu\\r\\n', '\\r\\n700-1,200 USD\\r\\n',\n",
       "       '\\r\\n2-8 triệu\\r\\n', '\\r\\n22-24 triệu\\r\\n', '\\r\\n20-50 triệu\\r\\n',\n",
       "       '\\r\\n Trên 12 triệu\\r\\n', '\\r\\n800-2,000 USD\\r\\n',\n",
       "       '\\r\\n10-14 triệu\\r\\n', '\\r\\n7-20 triệu\\r\\n',\n",
       "       '\\r\\n450-2,500 USD\\r\\n', '\\r\\nTới 400 USD\\r\\n',\n",
       "       '\\r\\n12-35 triệu\\r\\n', '\\r\\n2,500-4,000 USD\\r\\n',\n",
       "       '\\r\\nTới 1,700 USD\\r\\n', '\\r\\n350-2,000 USD\\r\\n',\n",
       "       '\\r\\nTới 1,800 USD\\r\\n', '\\r\\n11-30 triệu\\r\\n',\n",
       "       '\\r\\n8-50 triệu\\r\\n', '\\r\\n600-2,000 USD\\r\\n',\n",
       "       '\\r\\n13-24 triệu\\r\\n', '\\r\\nTới 70 triệu\\r\\n',\n",
       "       '\\r\\n8-11 triệu\\r\\n', '\\r\\n1,200-2,000 USD\\r\\n',\n",
       "       '\\r\\nTrên 1,200 USD\\r\\n', '\\r\\nTrên 6 triệu\\r\\n',\n",
       "       '\\r\\n25-40 triệu\\r\\n', '\\r\\n8-10 triệu\\r\\n', '\\r\\n12-50 triệu\\r\\n',\n",
       "       '\\r\\n12-14 triệu\\r\\n', '\\r\\n6-9 triệu\\r\\n', '\\r\\nThoả thuận\\r\\n ',\n",
       "       '\\r\\nTới 9 triệu\\r\\n', '\\r\\nTới 28 triệu\\r\\n',\n",
       "       '\\r\\n10-18 triệu\\r\\n', '\\r\\n 3-5 triệu\\r\\n', '\\r\\n12-27 triệu\\r\\n',\n",
       "       '\\r\\n6-30 triệu\\r\\n', '\\r\\nTrên 10.8 triệu\\r\\n',\n",
       "       '\\r\\n700-1,500 USD\\r\\n', '\\r\\n7-9 triệu\\r\\n',\n",
       "       '\\r\\n25-35 triệu\\r\\n', '\\r\\nTới 1,300 USD\\r\\n',\n",
       "       '\\r\\nTới 60 triệu\\r\\n', '\\r\\n15-23 triệu\\r\\n',\n",
       "       '\\r\\n 1,000-1,500 USD\\r\\n', '\\r\\n3-4 triệu\\r\\n',\n",
       "       '\\r\\n11-27 triệu\\r\\n', '\\r\\n4-6 triệu\\r\\n', '\\r\\nTới 39 triệu\\r\\n',\n",
       "       '\\r\\n11-40 triệu\\r\\n', '\\r\\n950-1,500 USD\\r\\n',\n",
       "       '\\r\\n500-1,200 USD\\r\\n', '\\r\\n22-45 triệu\\r\\n',\n",
       "       '\\r\\n13-16 triệu\\r\\n', '\\r\\n18-40 triệu\\r\\n',\n",
       "       '\\r\\n18-45 triệu\\r\\n', '\\r\\n9-11 triệu\\r\\n', '\\r\\n25-45 triệu\\r\\n',\n",
       "       '\\r\\n9-25 triệu\\r\\n', '\\r\\n Tới 22 triệu\\r\\n',\n",
       "       '\\r\\n17-25 triệu\\r\\n', '\\r\\n11-25 triệu\\r\\n',\n",
       "       '\\r\\n10-24 triệu\\r\\n', '\\r\\nTới 750 USD\\r\\n',\n",
       "       '\\r\\n10-17 triệu\\r\\n', '\\r\\n 12-15 triệu\\r\\n',\n",
       "       '\\r\\nTrên 5.5 triệu\\r\\n', '\\r\\n1.2-2 triệu\\r\\n',\n",
       "       '\\r\\n8-45 triệu\\r\\n', '\\r\\n22-28 triệu\\r\\n', '\\r\\n15-40 triệu\\r\\n',\n",
       "       '\\r\\nTrên 450 USD\\r\\n', '\\r\\n1,800-2,500 USD\\r\\n',\n",
       "       '\\r\\nTới 4.8 triệu\\r\\n', '\\r\\n8-13 triệu\\r\\n',\n",
       "       '\\r\\n0.6-4.8 triệu\\r\\n', '\\r\\n2-7 triệu\\r\\n',\n",
       "       '\\r\\n13-30 triệu\\r\\n', '\\r\\n600-1,500 USD\\r\\n',\n",
       "       '\\r\\n800-2,500 USD\\r\\n', '\\r\\nTới 2,000 USD\\r\\n ',\n",
       "       '\\r\\n18-27 triệu\\r\\n', '\\r\\nTrên 2,000 USD\\r\\n',\n",
       "       '\\r\\n600-1,000 USD\\r\\n', '\\r\\n17-30 triệu\\r\\n',\n",
       "       '\\r\\nTrên 13 triệu\\r\\n', '\\r\\n20-26 triệu\\r\\n',\n",
       "       '\\r\\n1.5-2 triệu\\r\\n', '\\r\\nTrên 10 triệu\\r\\n ',\n",
       "       '\\r\\n8.5-20 triệu\\r\\n', '\\r\\n2-5 triệu\\r\\n', '\\r\\n30-36 triệu\\r\\n',\n",
       "       '\\r\\n18-28 triệu\\r\\n', '\\r\\nTrên 800 USD\\r\\n',\n",
       "       '\\r\\n 800-2,000 USD\\r\\n', '\\r\\n16-25 triệu\\r\\n',\n",
       "       '\\r\\n3-4.5 triệu\\r\\n', '\\r\\n23-35 triệu\\r\\n',\n",
       "       '\\r\\n25-35 triệu\\r\\n ', '\\r\\n18-23 triệu\\r\\n',\n",
       "       '\\r\\n40-45 triệu\\r\\n', '\\r\\nTới 13 triệu\\r\\n',\n",
       "       '\\r\\nTới 48 triệu\\r\\n', '\\r\\n17-28 triệu\\r\\n',\n",
       "       '\\r\\nTới 30 triệu\\r\\n ', '\\r\\n400-1,300 USD\\r\\n',\n",
       "       '\\r\\nTrên 2 triệu\\r\\n', '\\r\\nTới 1,600 USD\\r\\n',\n",
       "       '\\r\\n20-22 triệu\\r\\n', '\\r\\n22-40 triệu\\r\\n', '\\r\\n7-30 triệu\\r\\n',\n",
       "       '\\r\\n4,000-8,000 USD\\r\\n', '\\r\\n5,000-11,000 USD\\r\\n',\n",
       "       '\\r\\n18-22 triệu\\r\\n', '\\r\\n1,000-1,300 USD\\r\\n',\n",
       "       '\\r\\n Trên 20 triệu\\r\\n', '\\r\\n30-50 triệu\\r\\n',\n",
       "       '\\r\\n11-23 triệu\\r\\n', '\\r\\n400-1,500 USD\\r\\n',\n",
       "       '\\r\\n1.5-4 triệu\\r\\n', '\\r\\nTrên 9.6 triệu\\r\\n',\n",
       "       '\\r\\n9-18 triệu\\r\\n', '\\r\\n700-1,600 USD\\r\\n',\n",
       "       '\\r\\n900-1,400 USD\\r\\n', '\\r\\n800-1,000 USD\\r\\n',\n",
       "       '\\r\\nTới 14 triệu\\r\\n', '\\r\\n15-45 triệu\\r\\n',\n",
       "       '\\r\\nTrên 1 triệu\\r\\n', '\\r\\n12-45 triệu\\r\\n',\n",
       "       '\\r\\nTới 7 triệu\\r\\n', '\\r\\n18-23.5 triệu\\r\\n',\n",
       "       '\\r\\n5-10 triệu\\r\\n', '\\r\\n15-27 triệu\\r\\n',\n",
       "       '\\r\\nTới 11 triệu\\r\\n', '\\r\\n18-35 triệu\\r\\n ',\n",
       "       '\\r\\n9-17 triệu\\r\\n', '\\r\\nTrên 2.5 triệu\\r\\n',\n",
       "       '\\r\\nTrên 2.3 triệu\\r\\n', '\\r\\n5-8 triệu\\r\\n',\n",
       "       '\\r\\nTới 28 triệu\\r\\n ', '\\r\\n20-60 triệu\\r\\n',\n",
       "       '\\r\\n16-40 triệu\\r\\n', '\\r\\n17-35 triệu\\r\\n',\n",
       "       '\\r\\n Trên 5 triệu\\r\\n', '\\r\\n55-65 triệu\\r\\n',\n",
       "       '\\r\\n11-35 triệu\\r\\n', '\\r\\n500-1,500 USD\\r\\n',\n",
       "       '\\r\\n6-12 triệu\\r\\n', '\\r\\n11-13 triệu\\r\\n',\n",
       "       '\\r\\n1,200-1,800 USD\\r\\n', '\\r\\n5-25 triệu\\r\\n',\n",
       "       '\\r\\n11-16 triệu\\r\\n', '\\r\\n12-17 triệu\\r\\n', '\\r\\n9-30 triệu\\r\\n',\n",
       "       '\\r\\n20-32 triệu\\r\\n', '\\r\\n45-65 triệu\\r\\n',\n",
       "       '\\r\\n17-27 triệu\\r\\n', '\\r\\n11-18 triệu\\r\\n',\n",
       "       '\\r\\nTrên 30 triệu\\r\\n', '\\r\\n700-2,200 USD\\r\\n',\n",
       "       '\\r\\nTới 47 triệu\\r\\n', '\\r\\nTới 65 triệu\\r\\n',\n",
       "       '\\r\\n400-1,200 USD\\r\\n', '\\r\\nTrên 500 USD\\r\\n',\n",
       "       '\\r\\nTới 120 triệu\\r\\n', '\\r\\n5-7 triệu\\r\\n',\n",
       "       '\\r\\nTới 3,500,000 USD\\r\\n', '\\r\\n300-1,800 USD\\r\\n',\n",
       "       '\\r\\n3-12 triệu\\r\\n', '\\r\\n16-42 triệu\\r\\n',\n",
       "       '\\r\\n10-20 triệu\\r\\n '], dtype=object)"
      ]
     },
     "execution_count": 86,
     "metadata": {},
     "output_type": "execute_result"
    }
   ],
   "source": [
    "df['Salary'].unique()"
   ]
  },
  {
   "attachments": {},
   "cell_type": "markdown",
   "metadata": {},
   "source": [
    "Sau đó ta sẽ thống nhất các yếu tố sau:\n",
    "- Quy về giá trị là USD (1 USD ~ 25,000 VNĐ (Tính theo số liệu 22.11.2022))\n",
    "- Hạn mức chênh lệch: 200 USD. Ví dụ: Tới 1400 USD ~ (1200, 1400)"
   ]
  },
  {
   "cell_type": "code",
   "execution_count": 87,
   "metadata": {},
   "outputs": [],
   "source": [
    "df['Salary'] = df['Salary'].apply(replace_str, str = '\\r\\n')\n",
    "df['Salary'] = df['Salary'].apply(replace_str, str = ',')"
   ]
  },
  {
   "attachments": {},
   "cell_type": "markdown",
   "metadata": {},
   "source": [
    "Ta thấy cột `Salary` có các từ *Trên*, *Tới* và các mệnh giá tiền là *USD* và *triệu*. Thì ta có thể quy về là dạng **`tuple`** với mệnh giá chung là **USD**"
   ]
  },
  {
   "cell_type": "code",
   "execution_count": 88,
   "metadata": {},
   "outputs": [],
   "source": [
    "def re_digit(s):\n",
    "    salary_space = np.array(list(map(int, re.findall('\\d+', s))))\n",
    "    vnd = 'triệu'\n",
    "    if len(salary_space) == 1:\n",
    "        if vnd in s or vnd.title() in s:\n",
    "            salary_space[0] = int(salary_space[0]) * 40\n",
    "        if 'Trên' in s:\n",
    "            result = (salary_space[0], salary_space[0] + 200)\n",
    "        else:\n",
    "            result = (salary_space[0] - 200, salary_space[0])\n",
    "    elif len(salary_space) == 2:\n",
    "        if vnd in s or vnd.title() in s:\n",
    "            salary_space = salary_space * 40\n",
    "        result = (salary_space[0], salary_space[1])\n",
    "    else:\n",
    "        result = (0, 0)\n",
    "    return result    \n",
    "\n",
    "df[\"Salary\"] = df[\"Salary\"].apply(re_digit)"
   ]
  },
  {
   "attachments": {},
   "cell_type": "markdown",
   "metadata": {},
   "source": [
    "### **2. Cột `KinhNghiem`**\n",
    "Kiểm tra xe cột `KinhNghiem` có các thành phần nào, có gì giống và khác nhau giữa các thành phần."
   ]
  },
  {
   "cell_type": "code",
   "execution_count": 89,
   "metadata": {},
   "outputs": [
    {
     "data": {
      "text/plain": [
       "array(['3 năm', 'Không yêu cầu kinh nghiệm', '1 năm', 'Dưới 1 năm',\n",
       "       '2 năm', 'Trên 5 năm', '4 năm', '5 năm'], dtype=object)"
      ]
     },
     "execution_count": 89,
     "metadata": {},
     "output_type": "execute_result"
    }
   ],
   "source": [
    "df['KinhNghiem'].unique()"
   ]
  },
  {
   "attachments": {},
   "cell_type": "markdown",
   "metadata": {},
   "source": [
    "Ta thấy, cột kinh nghiệm có sự khác nhau giữ các phần tử, tuy nhiên, nhìn chung, ta có thể thấy các yêu cầu kinh nghiệm sẽ quy được về `năm`. Do đó, ta có các cách làm sau:\n",
    "\n",
    "- Với các phần tử là `Không yêu cầu kinh nghiệm`, ta sẽ gán giá trị là 0\n",
    "- Với các phần tử là `Dưới 1 năm`, ta sẽ gán giá trị là 0.5\n",
    "- Với các phần tử là `Trên 5 năm`, ta sẽ gán giá trị là 5.5\n",
    "- Còn lại, ta sẽ bỏ từ `năm` đi"
   ]
  },
  {
   "cell_type": "code",
   "execution_count": 90,
   "metadata": {},
   "outputs": [],
   "source": [
    "df['KinhNghiem'] = df['KinhNghiem'].apply(replace_str, str = 'Trên 5 năm', to_str = '5.5')\n",
    "df['KinhNghiem'] = df['KinhNghiem'].apply(replace_str, str = 'Dưới 1 năm', to_str = '0.5')\n",
    "df['KinhNghiem'] = df['KinhNghiem'].apply(replace_str, str = 'Không yêu cầu kinh nghiệm', to_str = '0')\n",
    "df['KinhNghiem'] = df['KinhNghiem'].apply(replace_str, str = ' năm')"
   ]
  },
  {
   "attachments": {},
   "cell_type": "markdown",
   "metadata": {},
   "source": [
    "### **3. Cột `Quantity`**\n",
    "Kiểm tra xe cột `Quantity` có các thành phần nào, có gì giống và khác nhau giữa các thành phần."
   ]
  },
  {
   "cell_type": "code",
   "execution_count": 91,
   "metadata": {},
   "outputs": [
    {
     "data": {
      "text/plain": [
       "array(['5 người', '1 người', '3 người', '2 người', '20 người', '78 người',\n",
       "       '4 người', '30 người', '10 người', '14 người', '6 người',\n",
       "       '7 người', '8 người', '15 người', '13 người', '37 người',\n",
       "       '50 người', '200 người', '40 người', '12 người', '9 người',\n",
       "       '150 người', '29 người', '100 người', '11 người'], dtype=object)"
      ]
     },
     "execution_count": 91,
     "metadata": {},
     "output_type": "execute_result"
    }
   ],
   "source": [
    "df['Quantity'].unique()"
   ]
  },
  {
   "attachments": {},
   "cell_type": "markdown",
   "metadata": {},
   "source": [
    "Ở cột này ta thấy có 1 điểm chung là các phần tử dư từ `người`, do đó ta chỉ cần lọc từ người ra khỏi các phần tử của cột là được."
   ]
  },
  {
   "cell_type": "code",
   "execution_count": 92,
   "metadata": {},
   "outputs": [],
   "source": [
    "df['Quantity'] = df['Quantity'].apply(replace_str, str = ' người')"
   ]
  },
  {
   "cell_type": "code",
   "execution_count": 93,
   "metadata": {},
   "outputs": [
    {
     "name": "stdout",
     "output_type": "stream",
     "text": [
      "<class 'pandas.core.frame.DataFrame'>\n",
      "RangeIndex: 2336 entries, 0 to 2335\n",
      "Data columns (total 12 columns):\n",
      " #   Column        Non-Null Count  Dtype \n",
      "---  ------        --------------  ----- \n",
      " 0   Title         2336 non-null   object\n",
      " 1   Company       2336 non-null   object\n",
      " 2   DeadlineHoSo  2336 non-null   object\n",
      " 3   Salary        2336 non-null   object\n",
      " 4   Quantity      2336 non-null   object\n",
      " 5   Hthuc         2336 non-null   object\n",
      " 6   CapBac        2336 non-null   object\n",
      " 7   GioiTinh      2336 non-null   object\n",
      " 8   KinhNghiem    2336 non-null   object\n",
      " 9   DiaChi        2336 non-null   object\n",
      " 10  Skill         984 non-null    object\n",
      " 11  JobData       2330 non-null   object\n",
      "dtypes: object(12)\n",
      "memory usage: 219.1+ KB\n"
     ]
    }
   ],
   "source": [
    "df.info()"
   ]
  },
  {
   "attachments": {},
   "cell_type": "markdown",
   "metadata": {},
   "source": [
    "Sau khi thay đổi, ta sẽ tiếp tục xem kiểu dữ liệu của từng cột có phù hợp hay chưa, nếu chưa thì ta sẽ thay đổi nó.\n",
    "\n",
    "Ở đây, ta có 3 loại, các cột dạng `str` (object), cột `datetime`, và cột `numeric`."
   ]
  },
  {
   "cell_type": "code",
   "execution_count": 94,
   "metadata": {},
   "outputs": [
    {
     "name": "stdout",
     "output_type": "stream",
     "text": [
      "<class 'pandas.core.frame.DataFrame'>\n",
      "RangeIndex: 2336 entries, 0 to 2335\n",
      "Data columns (total 12 columns):\n",
      " #   Column        Non-Null Count  Dtype         \n",
      "---  ------        --------------  -----         \n",
      " 0   Title         2336 non-null   object        \n",
      " 1   Company       2336 non-null   object        \n",
      " 2   DeadlineHoSo  2336 non-null   datetime64[ns]\n",
      " 3   Salary        2336 non-null   object        \n",
      " 4   Quantity      2336 non-null   int64         \n",
      " 5   Hthuc         2336 non-null   object        \n",
      " 6   CapBac        2336 non-null   object        \n",
      " 7   GioiTinh      2336 non-null   object        \n",
      " 8   KinhNghiem    2336 non-null   float64       \n",
      " 9   DiaChi        2336 non-null   object        \n",
      " 10  Skill         984 non-null    object        \n",
      " 11  JobData       2330 non-null   object        \n",
      "dtypes: datetime64[ns](1), float64(1), int64(1), object(9)\n",
      "memory usage: 219.1+ KB\n"
     ]
    }
   ],
   "source": [
    "df = df.astype({'DeadlineHoSo': np.datetime64,'Quantity' : np.int64, 'KinhNghiem' : np.float64})\n",
    "df.info()"
   ]
  },
  {
   "attachments": {},
   "cell_type": "markdown",
   "metadata": {},
   "source": [
    "Sau đó ta sẽ ghi dữ liệu ra 1 file mới tên là `data.csv`"
   ]
  },
  {
   "cell_type": "code",
   "execution_count": 95,
   "metadata": {},
   "outputs": [],
   "source": [
    "df.to_csv('data.csv')"
   ]
  }
 ],
 "metadata": {
  "kernelspec": {
   "display_name": "Python 3",
   "language": "python",
   "name": "python3"
  },
  "language_info": {
   "codemirror_mode": {
    "name": "ipython",
    "version": 3
   },
   "file_extension": ".py",
   "mimetype": "text/x-python",
   "name": "python",
   "nbconvert_exporter": "python",
   "pygments_lexer": "ipython3",
   "version": "3.10.9"
  },
  "orig_nbformat": 4,
  "vscode": {
   "interpreter": {
    "hash": "65a440aeac0c89e2af7569e0aa53b64434c4b69eb6285e2b0d174d9bca190d54"
   }
  }
 },
 "nbformat": 4,
 "nbformat_minor": 2
}
