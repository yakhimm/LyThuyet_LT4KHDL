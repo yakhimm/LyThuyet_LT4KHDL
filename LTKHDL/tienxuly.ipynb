{
 "cells": [
  {
   "attachments": {},
   "cell_type": "markdown",
   "metadata": {},
   "source": [
    "# **B. TIỀN XỬ LÝ**"
   ]
  },
  {
   "attachments": {},
   "cell_type": "markdown",
   "metadata": {},
   "source": [
    "Trước tiên ta hãy khai báo các thư viện"
   ]
  },
  {
   "cell_type": "code",
   "execution_count": 156,
   "metadata": {},
   "outputs": [],
   "source": [
    "import matplotlib.pyplot as plt\n",
    "import seaborn as sns\n",
    "import pandas as pd\n",
    "import numpy as np\n",
    "import warnings\n",
    "warnings.filterwarnings('ignore')"
   ]
  },
  {
   "attachments": {},
   "cell_type": "markdown",
   "metadata": {},
   "source": [
    "Sau đó, ta sẽ đọc file `collect_data\\collect_data\\dataset\\info.csvinfo.csv` sau khi thu thập dữ liệu và lưu vào biến `df` là một dataframe"
   ]
  },
  {
   "cell_type": "code",
   "execution_count": 157,
   "metadata": {},
   "outputs": [
    {
     "data": {
      "text/html": [
       "<div>\n",
       "<style scoped>\n",
       "    .dataframe tbody tr th:only-of-type {\n",
       "        vertical-align: middle;\n",
       "    }\n",
       "\n",
       "    .dataframe tbody tr th {\n",
       "        vertical-align: top;\n",
       "    }\n",
       "\n",
       "    .dataframe thead th {\n",
       "        text-align: right;\n",
       "    }\n",
       "</style>\n",
       "<table border=\"1\" class=\"dataframe\">\n",
       "  <thead>\n",
       "    <tr style=\"text-align: right;\">\n",
       "      <th></th>\n",
       "      <th>Title</th>\n",
       "      <th>Company</th>\n",
       "      <th>DeadlineHoSo</th>\n",
       "      <th>Salary</th>\n",
       "      <th>Quantity</th>\n",
       "      <th>Hthuc</th>\n",
       "      <th>CapBac</th>\n",
       "      <th>GioiTinh</th>\n",
       "      <th>KinhNghiem</th>\n",
       "      <th>DiaChi</th>\n",
       "      <th>Skill</th>\n",
       "      <th>JobData</th>\n",
       "    </tr>\n",
       "  </thead>\n",
       "  <tbody>\n",
       "    <tr>\n",
       "      <th>0</th>\n",
       "      <td>Business Analyst</td>\n",
       "      <td>Asilla Việt Nam</td>\n",
       "      <td>Hạn nộp hồ sơ: 31/01/2023\\r\\n</td>\n",
       "      <td>\\r\\nTới 1,400 USD\\r\\n</td>\n",
       "      <td>5 người</td>\n",
       "      <td>Toàn thời gian</td>\n",
       "      <td>Nhân viên</td>\n",
       "      <td>Không yêu cầu</td>\n",
       "      <td>3 năm</td>\n",
       "      <td>Cầu Giấy,Hà Nội</td>\n",
       "      <td>NaN</td>\n",
       "      <td>- Collaborate with Product Manager to understa...</td>\n",
       "    </tr>\n",
       "    <tr>\n",
       "      <th>1</th>\n",
       "      <td>Android Developer</td>\n",
       "      <td>FPT Software</td>\n",
       "      <td>Hạn nộp hồ sơ: 30/04/2023\\r\\n</td>\n",
       "      <td>\\r\\nThoả thuận\\r\\n</td>\n",
       "      <td>5 người</td>\n",
       "      <td>Toàn thời gian</td>\n",
       "      <td>Nhân viên</td>\n",
       "      <td>Không yêu cầu</td>\n",
       "      <td>3 năm</td>\n",
       "      <td>Hà Nội,Cầu Giấy,Thạch Thất</td>\n",
       "      <td>NaN</td>\n",
       "      <td>• Working in Global delivery team (US, China, ...</td>\n",
       "    </tr>\n",
       "    <tr>\n",
       "      <th>2</th>\n",
       "      <td>Nhân Viên IT</td>\n",
       "      <td>Công ty CPXD&amp;PTHT Tây Hồ</td>\n",
       "      <td>Hạn nộp hồ sơ: 30/01/2023\\r\\n</td>\n",
       "      <td>\\r\\nThoả thuận\\r\\n</td>\n",
       "      <td>1 người</td>\n",
       "      <td>Toàn thời gian</td>\n",
       "      <td>Nhân viên</td>\n",
       "      <td>Nam</td>\n",
       "      <td>Không yêu cầu kinh nghiệm</td>\n",
       "      <td>Vĩnh Phúc,TP Vĩnh Yên</td>\n",
       "      <td>NaN</td>\n",
       "      <td>Chịu trách nhiệm giám sát hoạt động pho...</td>\n",
       "    </tr>\n",
       "    <tr>\n",
       "      <th>3</th>\n",
       "      <td>\\r\\nChuyên Viên Quản Trị Cơ Sở Dữ Liệu (Databa...</td>\n",
       "      <td>Ngân Hàng Thương Mại Cổ Phần Kiên Long</td>\n",
       "      <td>Hạn nộp hồ sơ: 31/01/2023\\r\\n</td>\n",
       "      <td>\\r\\n15-30 triệu\\r\\n</td>\n",
       "      <td>1 người</td>\n",
       "      <td>Toàn thời gian</td>\n",
       "      <td>Nhân viên</td>\n",
       "      <td>Nam</td>\n",
       "      <td>3 năm</td>\n",
       "      <td>Hà Nội,Nam Từ Liêm</td>\n",
       "      <td>Linux,Oracle,SQL,Unix</td>\n",
       "      <td>Hệ thống cơ sở dữ liệu Oracle,Hệ thống Oracle ...</td>\n",
       "    </tr>\n",
       "    <tr>\n",
       "      <th>4</th>\n",
       "      <td>Java Developer</td>\n",
       "      <td>CÔNG TY TNHH YOUMED VIỆT NAM</td>\n",
       "      <td>Hạn nộp hồ sơ: 31/01/2023\\r\\n</td>\n",
       "      <td>\\r\\nThoả thuận\\r\\n</td>\n",
       "      <td>3 người</td>\n",
       "      <td>Toàn thời gian</td>\n",
       "      <td>Nhân viên</td>\n",
       "      <td>Không yêu cầu</td>\n",
       "      <td>1 năm</td>\n",
       "      <td>Hồ Chí Minh,Quận 10</td>\n",
       "      <td>Java,Message Queue,Back-End Web Development</td>\n",
       "      <td>Phát triển tính năng đặt khám, telemedicine, s...</td>\n",
       "    </tr>\n",
       "  </tbody>\n",
       "</table>\n",
       "</div>"
      ],
      "text/plain": [
       "                                               Title  \\\n",
       "0                                   Business Analyst   \n",
       "1                                  Android Developer   \n",
       "2                                       Nhân Viên IT   \n",
       "3  \\r\\nChuyên Viên Quản Trị Cơ Sở Dữ Liệu (Databa...   \n",
       "4                                     Java Developer   \n",
       "\n",
       "                                  Company                    DeadlineHoSo  \\\n",
       "0                         Asilla Việt Nam   Hạn nộp hồ sơ: 31/01/2023\\r\\n   \n",
       "1                            FPT Software   Hạn nộp hồ sơ: 30/04/2023\\r\\n   \n",
       "2                Công ty CPXD&PTHT Tây Hồ   Hạn nộp hồ sơ: 30/01/2023\\r\\n   \n",
       "3  Ngân Hàng Thương Mại Cổ Phần Kiên Long   Hạn nộp hồ sơ: 31/01/2023\\r\\n   \n",
       "4            CÔNG TY TNHH YOUMED VIỆT NAM   Hạn nộp hồ sơ: 31/01/2023\\r\\n   \n",
       "\n",
       "                  Salary Quantity           Hthuc     CapBac       GioiTinh  \\\n",
       "0  \\r\\nTới 1,400 USD\\r\\n  5 người  Toàn thời gian  Nhân viên  Không yêu cầu   \n",
       "1     \\r\\nThoả thuận\\r\\n  5 người  Toàn thời gian  Nhân viên  Không yêu cầu   \n",
       "2     \\r\\nThoả thuận\\r\\n  1 người  Toàn thời gian  Nhân viên            Nam   \n",
       "3    \\r\\n15-30 triệu\\r\\n  1 người  Toàn thời gian  Nhân viên            Nam   \n",
       "4     \\r\\nThoả thuận\\r\\n  3 người  Toàn thời gian  Nhân viên  Không yêu cầu   \n",
       "\n",
       "                  KinhNghiem                      DiaChi  \\\n",
       "0                      3 năm             Cầu Giấy,Hà Nội   \n",
       "1                      3 năm  Hà Nội,Cầu Giấy,Thạch Thất   \n",
       "2  Không yêu cầu kinh nghiệm       Vĩnh Phúc,TP Vĩnh Yên   \n",
       "3                      3 năm          Hà Nội,Nam Từ Liêm   \n",
       "4                      1 năm         Hồ Chí Minh,Quận 10   \n",
       "\n",
       "                                         Skill  \\\n",
       "0                                          NaN   \n",
       "1                                          NaN   \n",
       "2                                          NaN   \n",
       "3                        Linux,Oracle,SQL,Unix   \n",
       "4  Java,Message Queue,Back-End Web Development   \n",
       "\n",
       "                                             JobData  \n",
       "0  - Collaborate with Product Manager to understa...  \n",
       "1  • Working in Global delivery team (US, China, ...  \n",
       "2  Chịu trách nhiệm giám sát hoạt động pho...  \n",
       "3  Hệ thống cơ sở dữ liệu Oracle,Hệ thống Oracle ...  \n",
       "4  Phát triển tính năng đặt khám, telemedicine, s...  "
      ]
     },
     "execution_count": 157,
     "metadata": {},
     "output_type": "execute_result"
    }
   ],
   "source": [
    "df = pd.read_csv('collect_data\\collect_data\\dataset\\info.csv')\n",
    "df.head()"
   ]
  },
  {
   "cell_type": "code",
   "execution_count": 158,
   "metadata": {},
   "outputs": [
    {
     "data": {
      "text/plain": [
       "(2336, 12)"
      ]
     },
     "execution_count": 158,
     "metadata": {},
     "output_type": "execute_result"
    }
   ],
   "source": [
    "df.shape"
   ]
  },
  {
   "attachments": {},
   "cell_type": "markdown",
   "metadata": {},
   "source": [
    "Kiểm tra cột KinhNghiem có thể thay đổi hay không ?"
   ]
  },
  {
   "cell_type": "code",
   "execution_count": 159,
   "metadata": {},
   "outputs": [
    {
     "data": {
      "text/plain": [
       "array(['3 năm', 'Không yêu cầu kinh nghiệm', '1 năm', 'Dưới 1 năm',\n",
       "       '2 năm', 'Trên 5 năm', '4 năm', '5 năm'], dtype=object)"
      ]
     },
     "execution_count": 159,
     "metadata": {},
     "output_type": "execute_result"
    }
   ],
   "source": [
    "df['KinhNghiem'].unique() "
   ]
  },
  {
   "attachments": {},
   "cell_type": "markdown",
   "metadata": {},
   "source": [
    "Ở đây, ta chưa cần xử lý cột `KinhNghiem`, bởi vì có các dữ liệu có thể gây khó cho ta trong lúc thực hiện thao tác xử lý (Không yêu cầu kinh nghiệm, Dưới 1 năm, ...), và nếu khi xử lý không chính xác, dữ liệu có thể bị thay đổi ý nghĩa trước khi trả lời câu hỏi."
   ]
  },
  {
   "attachments": {},
   "cell_type": "markdown",
   "metadata": {},
   "source": [
    "Sau khi đọc dữ liệu vào `df`, ta có thể thấy các cột có khá nhiều lỗi cần được format, thay đổi lại."
   ]
  },
  {
   "cell_type": "code",
   "execution_count": 160,
   "metadata": {},
   "outputs": [
    {
     "data": {
      "text/html": [
       "<div>\n",
       "<style scoped>\n",
       "    .dataframe tbody tr th:only-of-type {\n",
       "        vertical-align: middle;\n",
       "    }\n",
       "\n",
       "    .dataframe tbody tr th {\n",
       "        vertical-align: top;\n",
       "    }\n",
       "\n",
       "    .dataframe thead th {\n",
       "        text-align: right;\n",
       "    }\n",
       "</style>\n",
       "<table border=\"1\" class=\"dataframe\">\n",
       "  <thead>\n",
       "    <tr style=\"text-align: right;\">\n",
       "      <th></th>\n",
       "      <th>Title</th>\n",
       "      <th>Company</th>\n",
       "      <th>DeadlineHoSo</th>\n",
       "      <th>Salary</th>\n",
       "      <th>Quantity</th>\n",
       "      <th>Hthuc</th>\n",
       "      <th>CapBac</th>\n",
       "      <th>GioiTinh</th>\n",
       "      <th>KinhNghiem</th>\n",
       "      <th>DiaChi</th>\n",
       "      <th>Skill</th>\n",
       "      <th>JobData</th>\n",
       "    </tr>\n",
       "  </thead>\n",
       "  <tbody>\n",
       "    <tr>\n",
       "      <th>0</th>\n",
       "      <td>Business Analyst</td>\n",
       "      <td>Asilla Việt Nam</td>\n",
       "      <td>31/01/2023</td>\n",
       "      <td>Tới 1,400 USD</td>\n",
       "      <td>5</td>\n",
       "      <td>Toàn thời gian</td>\n",
       "      <td>Nhân viên</td>\n",
       "      <td>Không yêu cầu</td>\n",
       "      <td>3 năm</td>\n",
       "      <td>Cầu Giấy,Hà Nội</td>\n",
       "      <td>NaN</td>\n",
       "      <td>- Collaborate with Product Manager to understa...</td>\n",
       "    </tr>\n",
       "    <tr>\n",
       "      <th>1</th>\n",
       "      <td>Android Developer</td>\n",
       "      <td>FPT Software</td>\n",
       "      <td>30/04/2023</td>\n",
       "      <td>Thoả thuận</td>\n",
       "      <td>5</td>\n",
       "      <td>Toàn thời gian</td>\n",
       "      <td>Nhân viên</td>\n",
       "      <td>Không yêu cầu</td>\n",
       "      <td>3 năm</td>\n",
       "      <td>Hà Nội,Cầu Giấy,Thạch Thất</td>\n",
       "      <td>NaN</td>\n",
       "      <td>• Working in Global delivery team (US, China, ...</td>\n",
       "    </tr>\n",
       "    <tr>\n",
       "      <th>2</th>\n",
       "      <td>Nhân Viên IT</td>\n",
       "      <td>Công ty CPXD&amp;PTHT Tây Hồ</td>\n",
       "      <td>30/01/2023</td>\n",
       "      <td>Thoả thuận</td>\n",
       "      <td>1</td>\n",
       "      <td>Toàn thời gian</td>\n",
       "      <td>Nhân viên</td>\n",
       "      <td>Nam</td>\n",
       "      <td>Không yêu cầu kinh nghiệm</td>\n",
       "      <td>Vĩnh Phúc,TP Vĩnh Yên</td>\n",
       "      <td>NaN</td>\n",
       "      <td>Chịu trách nhiệm giám sát hoạt động pho...</td>\n",
       "    </tr>\n",
       "    <tr>\n",
       "      <th>3</th>\n",
       "      <td>Chuyên Viên Quản Trị Cơ Sở Dữ Liệu (Database A...</td>\n",
       "      <td>Ngân Hàng Thương Mại Cổ Phần Kiên Long</td>\n",
       "      <td>31/01/2023</td>\n",
       "      <td>15-30 triệu</td>\n",
       "      <td>1</td>\n",
       "      <td>Toàn thời gian</td>\n",
       "      <td>Nhân viên</td>\n",
       "      <td>Nam</td>\n",
       "      <td>3 năm</td>\n",
       "      <td>Hà Nội,Nam Từ Liêm</td>\n",
       "      <td>Linux,Oracle,SQL,Unix</td>\n",
       "      <td>Hệ thống cơ sở dữ liệu Oracle,Hệ thống Oracle ...</td>\n",
       "    </tr>\n",
       "    <tr>\n",
       "      <th>4</th>\n",
       "      <td>Java Developer</td>\n",
       "      <td>CÔNG TY TNHH YOUMED VIỆT NAM</td>\n",
       "      <td>31/01/2023</td>\n",
       "      <td>Thoả thuận</td>\n",
       "      <td>3</td>\n",
       "      <td>Toàn thời gian</td>\n",
       "      <td>Nhân viên</td>\n",
       "      <td>Không yêu cầu</td>\n",
       "      <td>1 năm</td>\n",
       "      <td>Hồ Chí Minh,Quận 10</td>\n",
       "      <td>Java,Message Queue,Back-End Web Development</td>\n",
       "      <td>Phát triển tính năng đặt khám, telemedicine, s...</td>\n",
       "    </tr>\n",
       "  </tbody>\n",
       "</table>\n",
       "</div>"
      ],
      "text/plain": [
       "                                               Title  \\\n",
       "0                                   Business Analyst   \n",
       "1                                  Android Developer   \n",
       "2                                       Nhân Viên IT   \n",
       "3  Chuyên Viên Quản Trị Cơ Sở Dữ Liệu (Database A...   \n",
       "4                                     Java Developer   \n",
       "\n",
       "                                  Company  DeadlineHoSo         Salary  \\\n",
       "0                         Asilla Việt Nam    31/01/2023  Tới 1,400 USD   \n",
       "1                            FPT Software    30/04/2023     Thoả thuận   \n",
       "2                Công ty CPXD&PTHT Tây Hồ    30/01/2023     Thoả thuận   \n",
       "3  Ngân Hàng Thương Mại Cổ Phần Kiên Long    31/01/2023    15-30 triệu   \n",
       "4            CÔNG TY TNHH YOUMED VIỆT NAM    31/01/2023     Thoả thuận   \n",
       "\n",
       "  Quantity           Hthuc     CapBac       GioiTinh  \\\n",
       "0        5  Toàn thời gian  Nhân viên  Không yêu cầu   \n",
       "1        5  Toàn thời gian  Nhân viên  Không yêu cầu   \n",
       "2        1  Toàn thời gian  Nhân viên            Nam   \n",
       "3        1  Toàn thời gian  Nhân viên            Nam   \n",
       "4        3  Toàn thời gian  Nhân viên  Không yêu cầu   \n",
       "\n",
       "                  KinhNghiem                      DiaChi  \\\n",
       "0                      3 năm             Cầu Giấy,Hà Nội   \n",
       "1                      3 năm  Hà Nội,Cầu Giấy,Thạch Thất   \n",
       "2  Không yêu cầu kinh nghiệm       Vĩnh Phúc,TP Vĩnh Yên   \n",
       "3                      3 năm          Hà Nội,Nam Từ Liêm   \n",
       "4                      1 năm         Hồ Chí Minh,Quận 10   \n",
       "\n",
       "                                         Skill  \\\n",
       "0                                          NaN   \n",
       "1                                          NaN   \n",
       "2                                          NaN   \n",
       "3                        Linux,Oracle,SQL,Unix   \n",
       "4  Java,Message Queue,Back-End Web Development   \n",
       "\n",
       "                                             JobData  \n",
       "0  - Collaborate with Product Manager to understa...  \n",
       "1  • Working in Global delivery team (US, China, ...  \n",
       "2  Chịu trách nhiệm giám sát hoạt động pho...  \n",
       "3  Hệ thống cơ sở dữ liệu Oracle,Hệ thống Oracle ...  \n",
       "4  Phát triển tính năng đặt khám, telemedicine, s...  "
      ]
     },
     "execution_count": 160,
     "metadata": {},
     "output_type": "execute_result"
    }
   ],
   "source": [
    "def replace_str(s, str, to_str = ''):\n",
    "    return s.replace(str, to_str)\n",
    "\n",
    "df['Title'] = df['Title'].apply(replace_str, str = '\\r\\n')\n",
    "\n",
    "df['Salary'] = df['Salary'].apply(replace_str, str = '\\r\\n')\n",
    "\n",
    "df['DeadlineHoSo'] = df['DeadlineHoSo'].apply(replace_str, str = '\\r\\n')\n",
    "df['DeadlineHoSo'] = df['DeadlineHoSo'].apply(replace_str, str = 'Hạn nộp hồ sơ:')\n",
    "\n",
    "df['Quantity'] = df['Quantity'].apply(replace_str, str = ' người')\n",
    "df.head()"
   ]
  },
  {
   "cell_type": "code",
   "execution_count": 161,
   "metadata": {},
   "outputs": [
    {
     "name": "stdout",
     "output_type": "stream",
     "text": [
      "<class 'pandas.core.frame.DataFrame'>\n",
      "RangeIndex: 2336 entries, 0 to 2335\n",
      "Data columns (total 12 columns):\n",
      " #   Column        Non-Null Count  Dtype \n",
      "---  ------        --------------  ----- \n",
      " 0   Title         2336 non-null   object\n",
      " 1   Company       2336 non-null   object\n",
      " 2   DeadlineHoSo  2336 non-null   object\n",
      " 3   Salary        2336 non-null   object\n",
      " 4   Quantity      2336 non-null   object\n",
      " 5   Hthuc         2336 non-null   object\n",
      " 6   CapBac        2336 non-null   object\n",
      " 7   GioiTinh      2336 non-null   object\n",
      " 8   KinhNghiem    2336 non-null   object\n",
      " 9   DiaChi        2336 non-null   object\n",
      " 10  Skill         984 non-null    object\n",
      " 11  JobData       2330 non-null   object\n",
      "dtypes: object(12)\n",
      "memory usage: 219.1+ KB\n"
     ]
    }
   ],
   "source": [
    "df.info()"
   ]
  },
  {
   "attachments": {},
   "cell_type": "markdown",
   "metadata": {},
   "source": [
    "Sau khi thay đổi, ta sẽ tiếp tục xem kiểu dữ liệu của từng cột có phù hợp hay chưa, nếu chưa thì ta sẽ thay đổi nó.\n",
    "\n",
    "Ở đây, ta có 3 loại, các cột dạng `str` (object), cột `datetime`, và cột `numeric`."
   ]
  },
  {
   "cell_type": "code",
   "execution_count": 162,
   "metadata": {},
   "outputs": [
    {
     "name": "stdout",
     "output_type": "stream",
     "text": [
      "<class 'pandas.core.frame.DataFrame'>\n",
      "RangeIndex: 2336 entries, 0 to 2335\n",
      "Data columns (total 12 columns):\n",
      " #   Column        Non-Null Count  Dtype         \n",
      "---  ------        --------------  -----         \n",
      " 0   Title         2336 non-null   object        \n",
      " 1   Company       2336 non-null   object        \n",
      " 2   DeadlineHoSo  2336 non-null   datetime64[ns]\n",
      " 3   Salary        2336 non-null   object        \n",
      " 4   Quantity      2336 non-null   int64         \n",
      " 5   Hthuc         2336 non-null   object        \n",
      " 6   CapBac        2336 non-null   object        \n",
      " 7   GioiTinh      2336 non-null   object        \n",
      " 8   KinhNghiem    2336 non-null   object        \n",
      " 9   DiaChi        2336 non-null   object        \n",
      " 10  Skill         984 non-null    object        \n",
      " 11  JobData       2330 non-null   object        \n",
      "dtypes: datetime64[ns](1), int64(1), object(10)\n",
      "memory usage: 219.1+ KB\n"
     ]
    }
   ],
   "source": [
    "df = df.astype({'DeadlineHoSo': np.datetime64, 'Quantity' : np.int64})\n",
    "df.info()"
   ]
  },
  {
   "attachments": {},
   "cell_type": "markdown",
   "metadata": {},
   "source": [
    "Tiếp theo ta kiểm tra xem dữ liệu có bị trùng hay không bằng cách dùng hàm `duplicated` "
   ]
  },
  {
   "cell_type": "code",
   "execution_count": 163,
   "metadata": {},
   "outputs": [
    {
     "name": "stdout",
     "output_type": "stream",
     "text": [
      "Dữ liệu không bị trùng\n"
     ]
    }
   ],
   "source": [
    "isdup = df.duplicated().sum()\n",
    "if isdup != 0:\n",
    "    print('Dữ liệu bị trùng')\n",
    "    # Nếu trùng ta sẽ bỏ các dòng trùng đi\n",
    "    df = df.drop_duplicates()\n",
    "else:\n",
    "    print('Dữ liệu không bị trùng')"
   ]
  },
  {
   "attachments": {},
   "cell_type": "markdown",
   "metadata": {},
   "source": [
    "Sau đó ta sẽ ghi dữ liệu ra 1 file mới tên là `data.csv`"
   ]
  },
  {
   "cell_type": "code",
   "execution_count": 164,
   "metadata": {},
   "outputs": [],
   "source": [
    "df.to_csv('data.csv')"
   ]
  }
 ],
 "metadata": {
  "kernelspec": {
   "display_name": "Python 3",
   "language": "python",
   "name": "python3"
  },
  "language_info": {
   "codemirror_mode": {
    "name": "ipython",
    "version": 3
   },
   "file_extension": ".py",
   "mimetype": "text/x-python",
   "name": "python",
   "nbconvert_exporter": "python",
   "pygments_lexer": "ipython3",
   "version": "3.10.9"
  },
  "orig_nbformat": 4,
  "vscode": {
   "interpreter": {
    "hash": "65a440aeac0c89e2af7569e0aa53b64434c4b69eb6285e2b0d174d9bca190d54"
   }
  }
 },
 "nbformat": 4,
 "nbformat_minor": 2
}
